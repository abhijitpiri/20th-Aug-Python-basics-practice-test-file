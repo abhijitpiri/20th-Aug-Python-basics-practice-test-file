{
 "cells": [
  {
   "cell_type": "code",
   "execution_count": null,
   "id": "5361ee2f-7502-4d46-bdb9-383f2b741542",
   "metadata": {},
   "outputs": [],
   "source": [
    "1. Write a program to reverse a string."
   ]
  },
  {
   "cell_type": "code",
   "execution_count": null,
   "id": "1489f04b-13c1-41e1-95f9-04fc9f4c4044",
   "metadata": {},
   "outputs": [],
   "source": [
    "string = \"Hello world\"\n",
    "print(string[::-1])"
   ]
  },
  {
   "cell_type": "code",
   "execution_count": null,
   "id": "0639b8d4-b23f-412f-9ad2-6b2bda8e1e53",
   "metadata": {},
   "outputs": [],
   "source": [
    "2. Check if a string is a palindrome."
   ]
  },
  {
   "cell_type": "code",
   "execution_count": null,
   "id": "9ef88915-9efc-4912-9e4f-9a2bc4157481",
   "metadata": {},
   "outputs": [],
   "source": [
    "def is_palindrome(s):\n",
    "    s = s.lower()\n",
    "    s = ''.join(e for e in s if e.isalnum())\n",
    "    return s == s[::-1]"
   ]
  },
  {
   "cell_type": "code",
   "execution_count": null,
   "id": "b4559d44-1502-47cf-9b75-17c03aca0333",
   "metadata": {},
   "outputs": [],
   "source": [
    "3. Convert a string to uppercase."
   ]
  },
  {
   "cell_type": "code",
   "execution_count": null,
   "id": "a2eb7d9e-bd2a-41b8-8974-2b7c65d8dba7",
   "metadata": {},
   "outputs": [],
   "source": [
    "a = \"Hello, World!\"\n",
    "print(a.upper())"
   ]
  },
  {
   "cell_type": "code",
   "execution_count": null,
   "id": "a272d7ee-df5c-4d31-93f5-53141e014696",
   "metadata": {},
   "outputs": [],
   "source": [
    "4. Convert a string to lowercase."
   ]
  },
  {
   "cell_type": "code",
   "execution_count": null,
   "id": "3e9d8caa-8376-49f2-b302-419e744a6538",
   "metadata": {},
   "outputs": [],
   "source": [
    "a = \"Hello, World!\"\n",
    "print(a.lower())"
   ]
  },
  {
   "cell_type": "code",
   "execution_count": null,
   "id": "ee39070f-a75a-4939-82f2-c89984db3a27",
   "metadata": {},
   "outputs": [],
   "source": [
    "5. Count the number of vowels in a string."
   ]
  },
  {
   "cell_type": "code",
   "execution_count": null,
   "id": "91a94e0c-7ab3-441f-bbeb-5b6c4a495c22",
   "metadata": {},
   "outputs": [],
   "source": [
    "string=\"Abhijit\"\n",
    "string_lower = string.lower()\n",
    "print(\"your string is: \", string)\n",
    "a = string.count(\"a\")\n",
    "e = string.count(\"e\")\n",
    "i = string.count(\"i\")\n",
    "o = string.count(\"o\")\n",
    "u = string.count(\"u\")\n",
    "vowel=a+e+i+o+u+1\n",
    "print(\"Number of vowel is :\",vowel)\n",
    "# count of number of vowels in the string\n",
    "# print(len(vowels))"
   ]
  },
  {
   "cell_type": "code",
   "execution_count": null,
   "id": "f3793dfb-64f5-4014-b768-06d824978772",
   "metadata": {},
   "outputs": [],
   "source": [
    "6. Count the number of consonants in a string."
   ]
  },
  {
   "cell_type": "code",
   "execution_count": null,
   "id": "26353b5d-84ea-4692-990e-669db94e6df6",
   "metadata": {},
   "outputs": [],
   "source": [
    "str=\"Abhijit\"\n",
    "string = str.lower()\n",
    "print(\"your string is: \", string)\n",
    "a = string.count(\"a\")\n",
    "e = string.count(\"e\")\n",
    "i = string.count(\"i\")\n",
    "o = string.count(\"o\")\n",
    "u = string.count(\"u\")\n",
    "vowel=a+e+i+o+u\n",
    "len_str=len(string) # Length of total string\n",
    "cons=len_str-vowel\n",
    "print(\"Number of consonant is :\",cons)"
   ]
  },
  {
   "cell_type": "code",
   "execution_count": null,
   "id": "a62144dd-6a29-49b6-a153-9ce423cbca53",
   "metadata": {},
   "outputs": [],
   "source": [
    "def count_con(string):\n",
    "    \n",
    "    con_count = 0\n",
    "    con = \"bcdfghjklmnpqrstvwxyzBCDFGHJKLMNPQRSTVWXYZ\"\n",
    "\n",
    "    for char in string:\n",
    "        if char in con:\n",
    "            con_count += 1\n",
    "    return con_count\n",
    "\n",
    "# Input string\n",
    "input_string = input(\"Enter a string: \")\n",
    "\n",
    "\n",
    "result = count_con(input_string)\n",
    "print(\"Number of consonants:\", result)"
   ]
  },
  {
   "cell_type": "code",
   "execution_count": null,
   "id": "11afec98-9497-4cda-8430-f8a595173d7e",
   "metadata": {},
   "outputs": [],
   "source": [
    "7. Remove all whitespaces from a string."
   ]
  },
  {
   "cell_type": "code",
   "execution_count": null,
   "id": "02ca2b05-a148-4477-9b75-821c0de3b0c6",
   "metadata": {},
   "outputs": [],
   "source": [
    "a = \"Hello, World!\"\n",
    "# Using the replace() method to replace spaces with an empty string:\n",
    "print(a.replace(' ', ''))"
   ]
  },
  {
   "cell_type": "code",
   "execution_count": null,
   "id": "a97b3871-c3dd-48f9-89c8-1d62d6b2f85e",
   "metadata": {},
   "outputs": [],
   "source": [
    "8. Find the length of a string without using the `len()` function."
   ]
  },
  {
   "cell_type": "code",
   "execution_count": null,
   "id": "c51213aa-e90b-40d3-9710-9bee1913545b",
   "metadata": {},
   "outputs": [],
   "source": [
    "a = \"Hello, World!\"\n",
    "print(a.count())"
   ]
  },
  {
   "cell_type": "code",
   "execution_count": null,
   "id": "f707366a-c3b0-4b8c-b61a-2d654d70df7d",
   "metadata": {},
   "outputs": [],
   "source": [
    "9. Check if a string contains a specific word."
   ]
  },
  {
   "cell_type": "code",
   "execution_count": null,
   "id": "2903780c-1cb6-4268-b9a7-cf2bc5ccba71",
   "metadata": {},
   "outputs": [],
   "source": [
    "str = \"Hello, world!\"\n",
    "str_lower = str.lower()\n",
    "specific_word = \"world\"\n",
    "result = specific_word in str_lower\n",
    "print(result)"
   ]
  },
  {
   "cell_type": "code",
   "execution_count": null,
   "id": "2788b140-d990-4411-a0aa-2487989d379e",
   "metadata": {},
   "outputs": [],
   "source": [
    "10. Replace a word in a string with another word"
   ]
  },
  {
   "cell_type": "code",
   "execution_count": null,
   "id": "ad7ce163-f3a5-49b1-b050-aabd9a2986a5",
   "metadata": {},
   "outputs": [],
   "source": [
    "text = \"Hello, world!\"\n",
    "\n",
    "# replace 'world' with 'Python'\n",
    "replaced_text = text.replace('world!', 'Python')\n",
    "print(replaced_text)"
   ]
  },
  {
   "cell_type": "code",
   "execution_count": null,
   "id": "794e3c4a-0850-4ca2-bb19-f6d9d6fc5094",
   "metadata": {},
   "outputs": [],
   "source": [
    "11. Count the occurrences of a word in a string."
   ]
  },
  {
   "cell_type": "code",
   "execution_count": null,
   "id": "735cb6ec-c91c-43ef-acfb-34944fa2153a",
   "metadata": {},
   "outputs": [],
   "source": [
    "\n",
    "test_str = \"He is a boy and he play football\"\n",
    "lower_str=test_str.lower()\n",
    "# using count()\n",
    "word='he'\n",
    "counter = lower_str.count(word)\n",
    "# printing result\n",
    "print(\"Count the occurrences of a word is : \",counter)"
   ]
  },
  {
   "cell_type": "code",
   "execution_count": null,
   "id": "38998bcf-d991-4526-a934-3c21199bdcfb",
   "metadata": {},
   "outputs": [],
   "source": [
    "12. Find the first occurrence of a word in a string."
   ]
  },
  {
   "cell_type": "code",
   "execution_count": null,
   "id": "5c1ba1c1-a145-4b22-a4f4-c6d2674883ff",
   "metadata": {},
   "outputs": [],
   "source": [
    "s = \"the dude is a cool dude\"\n",
    "# using find() \n",
    "result=s.find('dude')\n",
    "print(\"Index of the first occurrence:\", result)"
   ]
  },
  {
   "cell_type": "code",
   "execution_count": null,
   "id": "751f842f-f5d6-4fd9-9ca5-a903e5eb7473",
   "metadata": {},
   "outputs": [],
   "source": [
    "13. Find the last occurrence of a word in a string."
   ]
  },
  {
   "cell_type": "code",
   "execution_count": null,
   "id": "62de3c91-34c0-4681-b8bb-1e565479d053",
   "metadata": {},
   "outputs": [],
   "source": [
    "s = \"the dude is a cool dude\"\n",
    "# using find() \n",
    "result=s.rfind('dude')\n",
    "print(\"Index of the last occurrence:\", result)"
   ]
  },
  {
   "cell_type": "code",
   "execution_count": null,
   "id": "3042055e-aafe-418a-96ff-5cbeb59e67c1",
   "metadata": {},
   "outputs": [],
   "source": [
    "14. Split a string into a list of words."
   ]
  },
  {
   "cell_type": "code",
   "execution_count": null,
   "id": "51779672-51cf-4332-bad7-216e2ed224b5",
   "metadata": {},
   "outputs": [],
   "source": [
    "myString = \"Hello world\"\n",
    "myList = myString.split()\n",
    "\n",
    "print(myList)"
   ]
  },
  {
   "cell_type": "code",
   "execution_count": null,
   "id": "f303c2cc-353a-492f-bd55-3005be103add",
   "metadata": {},
   "outputs": [],
   "source": [
    "15. Join a list of words into a string."
   ]
  },
  {
   "cell_type": "code",
   "execution_count": null,
   "id": "e2e63582-916c-44da-81b7-52c94451ada0",
   "metadata": {},
   "outputs": [],
   "source": [
    "list_abc = ['aaa', 'bbb', 'ccc']\n",
    "\n",
    "string = ''.join(list_abc)\n",
    "print(string)"
   ]
  },
  {
   "cell_type": "code",
   "execution_count": null,
   "id": "13fa5b38-6681-4c14-a8ab-2ff3df52843e",
   "metadata": {},
   "outputs": [],
   "source": [
    "16. Convert a string where words are separated by spaces to one where words are separated by underscores."
   ]
  },
  {
   "cell_type": "code",
   "execution_count": null,
   "id": "02b72f80-2f59-486c-8761-cbaf43dff898",
   "metadata": {},
   "outputs": [],
   "source": [
    "a = \"He is a boy and he play football\"\n",
    "print(a.replace(' ', '_'))"
   ]
  },
  {
   "cell_type": "code",
   "execution_count": null,
   "id": "7dc56172-499a-4c81-8242-6c366f3af9c3",
   "metadata": {},
   "outputs": [],
   "source": [
    "17. Check if a string starts with a specific word or phrase."
   ]
  },
  {
   "cell_type": "code",
   "execution_count": null,
   "id": "a2e0a9bc-ba74-4ce3-badc-6efaa5700b30",
   "metadata": {},
   "outputs": [],
   "source": [
    "txt = \"Hello, welcome to my world.\"\n",
    "\n",
    "x = txt.startswith(\"Hello\")\n",
    "\n",
    "print(x)"
   ]
  },
  {
   "cell_type": "code",
   "execution_count": null,
   "id": "271ed5f7-524d-40f9-94da-8c782e991af2",
   "metadata": {},
   "outputs": [],
   "source": [
    "18. Check if a string ends with a specific word or phrase."
   ]
  },
  {
   "cell_type": "code",
   "execution_count": null,
   "id": "cabfbeec-dc6f-466d-8564-6f62c207fbdb",
   "metadata": {},
   "outputs": [],
   "source": [
    "txt = \"Hello, welcome to my world.\"\n",
    "\n",
    "x = txt.endswith(\"world.\")\n",
    "\n",
    "print(x)"
   ]
  },
  {
   "cell_type": "code",
   "execution_count": null,
   "id": "df653f57-26e5-4d26-afd1-58f588f0e55b",
   "metadata": {},
   "outputs": [],
   "source": [
    "19. Convert a string to title case (e.g., \"hello world\" to \"Hello World\")."
   ]
  },
  {
   "cell_type": "code",
   "execution_count": null,
   "id": "d5e17824-c5dd-47f2-a063-80f178373a8a",
   "metadata": {},
   "outputs": [],
   "source": [
    "txt = \"hello world\"\n",
    "\n",
    "x = txt.title()\n",
    "\n",
    "print(x)"
   ]
  },
  {
   "cell_type": "code",
   "execution_count": null,
   "id": "d0558713-41ee-4c27-bf7b-07a6dc890067",
   "metadata": {},
   "outputs": [],
   "source": [
    "20. Find the longest word in a string."
   ]
  },
  {
   "cell_type": "code",
   "execution_count": null,
   "id": "aa6fb616-9373-44c4-ba29-3cc5a65ad083",
   "metadata": {},
   "outputs": [],
   "source": [
    "sentence = \" Hello, welcome to my world.\"\n",
    "\n",
    "# Finding longest word\n",
    "longest = max(sentence.split(), key=len)\n",
    "\n",
    "# Displaying longest word\n",
    "print(\"Longest word is: \", longest)"
   ]
  },
  {
   "cell_type": "code",
   "execution_count": null,
   "id": "9b8d989e-f8eb-4459-9498-589af34e1144",
   "metadata": {},
   "outputs": [],
   "source": [
    "21. Find the shortest word in a string."
   ]
  },
  {
   "cell_type": "code",
   "execution_count": null,
   "id": "8a7a843f-1637-40d9-ba5c-a0263556dec5",
   "metadata": {},
   "outputs": [],
   "source": [
    "sentence = \" Hello, welcome to my world.\"\n",
    "\n",
    "# Finding longest word\n",
    "shortest = min(sentence.split(), key=len)\n",
    "\n",
    "# Displaying longest word\n",
    "print(\"shortest word is: \", shortest)"
   ]
  },
  {
   "cell_type": "code",
   "execution_count": null,
   "id": "485f37ef-6a8c-42db-8eca-2da33f7e88c8",
   "metadata": {},
   "outputs": [],
   "source": [
    "22. Reverse the order of words in a string."
   ]
  },
  {
   "cell_type": "code",
   "execution_count": null,
   "id": "22db7941-2491-4590-bf1a-653ffc21373b",
   "metadata": {},
   "outputs": [],
   "source": [
    "string = \" Hello, welcome to my world.\"\n",
    "## splitting the string on space\n",
    "words = string.split()\n",
    "## reversing the words using reversed() function\n",
    "words = list(reversed(words))\n",
    "## joining the words and printing\n",
    "print(\" \".join(words))"
   ]
  },
  {
   "cell_type": "code",
   "execution_count": null,
   "id": "eb828b70-0ca5-4338-b75b-653ed096b0ac",
   "metadata": {},
   "outputs": [],
   "source": [
    "23. Check if a string is alphanumeric."
   ]
  },
  {
   "cell_type": "code",
   "execution_count": null,
   "id": "0c1f30b0-9ed7-4ae7-b905-f3fd1ec792a9",
   "metadata": {},
   "outputs": [],
   "source": [
    "string = \" Hello, welcome to my world.\"\n",
    "print(string.isalnum())"
   ]
  },
  {
   "cell_type": "code",
   "execution_count": null,
   "id": "0d2e25bf-1352-4048-88d8-e9e5506d0ea5",
   "metadata": {},
   "outputs": [],
   "source": [
    "24. Extract all digits from a string."
   ]
  },
  {
   "cell_type": "code",
   "execution_count": null,
   "id": "7fb25d8d-7931-49fc-adbe-6a0efbfaeb8b",
   "metadata": {},
   "outputs": [],
   "source": [
    "test_string = \"There are 2 apples for 4 persons\"\n",
    "\n",
    "numbers = []\n",
    "for char in test_string:\n",
    "    \n",
    "#using the isdigit() method.\n",
    "\tif char.isdigit():\n",
    "# append digit to a list\n",
    "\t\tnumbers.append(int(char))\n",
    "\n",
    "print(\"The numbers list is:\", numbers)\n"
   ]
  },
  {
   "cell_type": "code",
   "execution_count": null,
   "id": "01aa3d06-f95a-4ecc-8b26-377679662223",
   "metadata": {},
   "outputs": [],
   "source": [
    "string = \"There are 2 apples for 4 persons\"\n",
    "result = \"\"\n",
    "for i in string:\n",
    "    if i.isdigit():\n",
    "        result = \"\".join([result,i])\n",
    "print(result)"
   ]
  },
  {
   "cell_type": "code",
   "execution_count": null,
   "id": "0fcd169d-d4bf-460b-aede-19ebf0b0b012",
   "metadata": {
    "tags": []
   },
   "outputs": [],
   "source": [
    "25. Extract all alphabets from a string."
   ]
  },
  {
   "cell_type": "code",
   "execution_count": null,
   "id": "100b586c-f0c6-40e0-a65d-7b4e2fe14198",
   "metadata": {},
   "outputs": [],
   "source": [
    "string = \"There are 2 apples for 4 persons\"\n",
    "result = \"\"\n",
    "for i in string:\n",
    "    if i.isalpha():\n",
    "        result = \"\".join([result,i])\n",
    "print(result)"
   ]
  },
  {
   "cell_type": "code",
   "execution_count": null,
   "id": "580e26dc-a97d-448c-bd81-286e740de684",
   "metadata": {},
   "outputs": [],
   "source": [
    "26. Count the number of uppercase letters in a string."
   ]
  },
  {
   "cell_type": "code",
   "execution_count": null,
   "id": "b5bdaa54-74cd-43f2-99d8-60098726169d",
   "metadata": {},
   "outputs": [],
   "source": [
    "string = \"There are 2 Apples for 4 Persons\"\n",
    "result = \"\"\n",
    "for i in string:\n",
    "    if i.isupper():\n",
    "        result = \"\".join([result,i])\n",
    "print(len(result))"
   ]
  },
  {
   "cell_type": "code",
   "execution_count": null,
   "id": "cfd996c1-d30f-4bad-af41-f37ba40447c2",
   "metadata": {},
   "outputs": [],
   "source": [
    "27. Count the number of lowercase letters in a string."
   ]
  },
  {
   "cell_type": "code",
   "execution_count": null,
   "id": "4070d422-2b17-4c9f-8c66-5a982d898a07",
   "metadata": {},
   "outputs": [],
   "source": [
    "string = \"There are 2 Apples for 4 Persons\"\n",
    "result = \"\"\n",
    "for i in string:\n",
    "    if i.islower():\n",
    "        result = \"\".join([result,i])\n",
    "print(len(result))"
   ]
  },
  {
   "cell_type": "code",
   "execution_count": null,
   "id": "34dd2448-67ef-4fd8-b9c3-26a25d369bf6",
   "metadata": {},
   "outputs": [],
   "source": [
    "28. Swap the case of each character in a string."
   ]
  },
  {
   "cell_type": "code",
   "execution_count": null,
   "id": "c2726826-19ee-4113-9a78-9a3a526bf60d",
   "metadata": {},
   "outputs": [],
   "source": [
    "string = \"There are 2 Apples for 4 Persons\"\n",
    "result = string.swapcase()\n",
    "print(result)"
   ]
  },
  {
   "cell_type": "code",
   "execution_count": null,
   "id": "0c82d0ff-386e-429c-ab58-c357fbfeef3e",
   "metadata": {},
   "outputs": [],
   "source": [
    "29. Remove a specific word from a string."
   ]
  },
  {
   "cell_type": "code",
   "execution_count": null,
   "id": "f72f9b3e-812f-484a-9d2b-72ddee045302",
   "metadata": {},
   "outputs": [],
   "source": [
    "input_string = \"Hello world, welcome to the world of programming.\"\n",
    "word_to_remove = \"world\"\n",
    "result = input_string.replace(word_to_remove, '')\n",
    "print(result)"
   ]
  },
  {
   "cell_type": "code",
   "execution_count": null,
   "id": "75c6bafc-817f-4baf-a14a-b8b3594b48bb",
   "metadata": {},
   "outputs": [],
   "source": [
    "30. Check if a string is a valid email address."
   ]
  },
  {
   "cell_type": "code",
   "execution_count": null,
   "id": "b81d9697-0e55-44b2-a5ed-2633d219925d",
   "metadata": {},
   "outputs": [],
   "source": [
    "import re  \n",
    "  \n",
    "def validate_email(email):  \n",
    "    if re.match(r\"[^@]+@[^@]+\\.[^@]+\", email):  \n",
    "        return True  \n",
    "    return False  \n",
    "  \n",
    "email = \"example@domain.com\"  \n",
    "if validate_email(email):  \n",
    "    print(\"Valid email address\")  \n",
    "else:  \n",
    "    print(\"Invalid email address\")  "
   ]
  },
  {
   "cell_type": "code",
   "execution_count": null,
   "id": "c864950f-0cb1-4829-a240-857a15b8d891",
   "metadata": {},
   "outputs": [],
   "source": [
    "31. Extract the username from an email address string."
   ]
  },
  {
   "cell_type": "code",
   "execution_count": null,
   "id": "bcbb5458-f96c-4c00-b074-6f98f092a725",
   "metadata": {},
   "outputs": [],
   "source": [
    "def email_splitter(email):\n",
    "    username = email.split('@')[0]\n",
    "    print('Username : ', username)"
   ]
  },
  {
   "cell_type": "code",
   "execution_count": null,
   "id": "dbcfe710-4e45-40d9-a4ab-00986146fb24",
   "metadata": {},
   "outputs": [],
   "source": [
    "32. Extract the domain name from an email address string."
   ]
  },
  {
   "cell_type": "code",
   "execution_count": null,
   "id": "7a010da6-4ea0-41c4-92fb-7bdce7eca4e3",
   "metadata": {},
   "outputs": [],
   "source": [
    "def email_splitter(email):\n",
    "    domain_name = domain.split('.')[0]\n",
    "    print('Domain name is   : ', domain_name)"
   ]
  },
  {
   "cell_type": "code",
   "execution_count": null,
   "id": "2961ffb0-615e-4c3b-a1f2-72ae60c2f4d0",
   "metadata": {},
   "outputs": [],
   "source": [
    "33. Replace multiple spaces in a string with a single space."
   ]
  },
  {
   "cell_type": "code",
   "execution_count": null,
   "id": "49c894fb-c655-4b07-be71-1d8ccc0975d4",
   "metadata": {},
   "outputs": [],
   "source": [
    "string = \"Hello     world!   How   are   you?\"\n",
    "cleaned_string = ' '.join(input_string.split())  # Split the string at spaces and then join using a single space\n",
    "print(cleaned_string )"
   ]
  },
  {
   "cell_type": "code",
   "execution_count": null,
   "id": "9b6d1e18-50ac-4db2-a685-9b2f22ca1c6e",
   "metadata": {},
   "outputs": [],
   "source": [
    "34. Check if a string is a valid URL."
   ]
  },
  {
   "cell_type": "code",
   "execution_count": null,
   "id": "8202c588-ac72-4b0d-ab00-9eff9e502f26",
   "metadata": {},
   "outputs": [],
   "source": [
    "from urllib.parse import urlparse\n",
    "\n",
    "def is_valid_url(url):\n",
    "    try:\n",
    "        result = urlparse(url)\n",
    "        return all([result.scheme, result.netloc])  # Check if both scheme and netloc are present\n",
    "    except ValueError:\n",
    "        return False\n",
    "\n",
    "# Example URLs\n",
    "url1 = \"https://www.example.com\"\n",
    "url2 = \"invalid-url\"\n",
    "result1 = is_valid_url(url1)\n",
    "result2 = is_valid_url(url2)\n",
    "print(result1)  # Should print True\n",
    "print(result2)  # Should print False"
   ]
  },
  {
   "cell_type": "code",
   "execution_count": null,
   "id": "f22fddae-d2ee-473f-b71a-e840c9252c39",
   "metadata": {},
   "outputs": [],
   "source": [
    "35. Extract the protocol (http or https) from a URL string."
   ]
  },
  {
   "cell_type": "code",
   "execution_count": null,
   "id": "8b1acd0a-acda-4563-b448-0ce66119101e",
   "metadata": {},
   "outputs": [],
   "source": [
    "def extract_protocol(url):\n",
    "    # Find the index of the first occurrence of \"://\"\n",
    "    protocol_end = url.find(\"://\")\n",
    "\n",
    "    if protocol_end != -1:\n",
    "        # Extract the protocol from the URL\n",
    "        protocol = url[:protocol_end]\n",
    "        return protocol\n",
    "    else:\n",
    "        return None\n",
    "\n",
    "# Example URL strings\n",
    "url1 = \"https://www.example.com\"\n",
    "\n",
    "# Extract protocols\n",
    "protocol1 = extract_protocol(url1)\n",
    "\n",
    "# Print extracted protocols\n",
    "print(\"Protocol :\", protocol1)"
   ]
  },
  {
   "cell_type": "code",
   "execution_count": null,
   "id": "5e0e959f-ba6e-477e-a7fe-224f17cabc89",
   "metadata": {},
   "outputs": [],
   "source": [
    "36. Find the frequency of each character in a string."
   ]
  },
  {
   "cell_type": "code",
   "execution_count": null,
   "id": "c20390a2-c8ee-4463-9a59-f1da22579f9c",
   "metadata": {},
   "outputs": [],
   "source": [
    "string = \"hello world\"\n",
    "\n",
    "for i in string:\n",
    "    frequency = string.count(i)\n",
    "    print('Character:',str(i) + \": frequency: \" + str(frequency))"
   ]
  },
  {
   "cell_type": "code",
   "execution_count": null,
   "id": "fd880bc4-ddd2-450b-a214-3a1eeacaceb5",
   "metadata": {},
   "outputs": [],
   "source": [
    "37. Remove all punctuation from a string."
   ]
  },
  {
   "cell_type": "code",
   "execution_count": null,
   "id": "b312620d-4432-49fc-8cfa-23943a880b5e",
   "metadata": {},
   "outputs": [],
   "source": [
    "import string\n",
    "\n",
    "def remove_punctuation(input_string):\n",
    "    # Create a translation table to remove punctuation\n",
    "    translator = str.maketrans(\"\", \"\", string.punctuation)\n",
    "\n",
    "    # Use the translation table to remove punctuation from the input string\n",
    "    clean_string = input_string.translate(translator)\n",
    "\n",
    "    return clean_string\n",
    "\n",
    "# Example string with punctuation\n",
    "input_str = \"Hello, world! How's it going?\"\n",
    "\n",
    "# Remove punctuation\n",
    "cleaned_str = remove_punctuation(input_str)\n",
    "\n",
    "# Print the cleaned string\n",
    "print(\"Original string:\", input_str)\n",
    "print(\"Cleaned string:\", cleaned_str)"
   ]
  },
  {
   "cell_type": "code",
   "execution_count": null,
   "id": "d8a92547-be37-4257-8bd6-6a74eb193197",
   "metadata": {},
   "outputs": [],
   "source": [
    "38. Check if a string contains only digits."
   ]
  },
  {
   "cell_type": "code",
   "execution_count": null,
   "id": "7bf16c13-f93d-4ca8-ac2c-9c0b329a4d58",
   "metadata": {},
   "outputs": [],
   "source": [
    "string =input(\"Enter a Srting\")\n",
    "result=string.isdigit()\n",
    "print(f\"'{string}' contains only digits:\", result)"
   ]
  },
  {
   "cell_type": "code",
   "execution_count": null,
   "id": "a3e4b706-1d26-49d9-bb1b-f11fb20e92f1",
   "metadata": {},
   "outputs": [],
   "source": [
    "39. Check if a string contains only alphabets."
   ]
  },
  {
   "cell_type": "code",
   "execution_count": null,
   "id": "49e9dcc0-924f-4cb7-8487-5006a954af64",
   "metadata": {},
   "outputs": [],
   "source": [
    "string =input(\"Enter a Srting\")\n",
    "result=string.isalpha()\n",
    "print(f\"'{string}' contains only alphabets:\", result)"
   ]
  },
  {
   "cell_type": "code",
   "execution_count": null,
   "id": "f26c0877-48c9-406e-a1c6-3c019aa19281",
   "metadata": {},
   "outputs": [],
   "source": [
    "40. Convert a string to a list of characters."
   ]
  },
  {
   "cell_type": "code",
   "execution_count": null,
   "id": "c6cfa42e-40c0-4dca-ae3e-c9a8d7611ea3",
   "metadata": {},
   "outputs": [],
   "source": [
    "string = \"Hello, world!\"\n",
    "print([*string])"
   ]
  },
  {
   "cell_type": "code",
   "execution_count": null,
   "id": "31852969-14e9-4285-afbb-ecbb718fa10b",
   "metadata": {},
   "outputs": [],
   "source": [
    "41. Check if two strings are anagrams."
   ]
  },
  {
   "cell_type": "code",
   "execution_count": null,
   "id": "f957404a-670a-4ece-8fab-786a8d15cb11",
   "metadata": {},
   "outputs": [],
   "source": [
    "str1 =\"Listen\"\n",
    "str2 =\"silent\"\n",
    "\n",
    "s1 = str1.replace(\" \", \"\").lower()\n",
    "s2 = str2.replace(\" \", \"\").lower()\n",
    "def check(s1, s2):\n",
    "\t\n",
    "\tif(sorted(s1)== sorted(s2)):\n",
    "\t\tprint(\"The strings are anagrams.\")\n",
    "\telse:\n",
    "\t\tprint(\"The strings aren't anagrams.\")\t\t\n",
    "\t\t\n",
    "check(s1, s2)\n",
    "\n"
   ]
  },
  {
   "cell_type": "code",
   "execution_count": null,
   "id": "a173103c-956e-456d-9d09-4189b8cbebd8",
   "metadata": {},
   "outputs": [],
   "source": [
    "42. Encode a string using a Caesar cipher."
   ]
  },
  {
   "cell_type": "code",
   "execution_count": null,
   "id": "9fd4e073-312a-4a4a-bb90-8c76cc566696",
   "metadata": {},
   "outputs": [],
   "source": [
    "def encypt_func(txt, s):  \n",
    "    result = \"\"  \n",
    "  \n",
    "  \n",
    "# transverse the plain txt  \n",
    "    for i in range(len(txt)):  \n",
    "        char = txt[i]  \n",
    "        # encypt_func uppercase characters in plain txt  \n",
    "  \n",
    "        if (char.isupper()):  \n",
    "            result += chr((ord(char) + s - 64) % 26 + 65)  \n",
    "        # encypt_func lowercase characters in plain txt  \n",
    "        else:  \n",
    "            result += chr((ord(char) + s - 96) % 26 + 97)  \n",
    "    return result  \n",
    "# check the above function  \n",
    "txt = \"CEASER CIPHER EXAMPLE\"  \n",
    "s = 4  \n",
    "  \n",
    "print(\"Plain txt : \" + txt)  \n",
    "print(\"Shift pattern : \" + str(s))  \n",
    "print(\"Cipher: \" + encypt_func(txt, s))  "
   ]
  },
  {
   "cell_type": "code",
   "execution_count": null,
   "id": "7f4fd180-10a1-4ace-a1d4-4e0f20c9d173",
   "metadata": {},
   "outputs": [],
   "source": [
    "43. Decode a Caesar cipher encoded string."
   ]
  },
  {
   "cell_type": "code",
   "execution_count": null,
   "id": "a0cb400b-934f-4055-b8bb-7136c833847f",
   "metadata": {},
   "outputs": [],
   "source": [
    "def caesar_cipher_decoder(text, shift):\n",
    "\n",
    "    decoded_text = \"\"\n",
    "\n",
    "    for char in text:\n",
    "        if char.isalpha():\n",
    "           \n",
    "            decoded_char = chr((ord(char) - shift - ord('a')) % 26 + ord('a'))\n",
    "        else:\n",
    "            \n",
    "            decoded_char = char\n",
    "\n",
    "        \n",
    "        decoded_text += decoded_char\n",
    "    return decoded_text\n",
    "\n",
    "# Example input\n",
    "text = \"lopp, zruog!\"\n",
    "shift = 3\n",
    "\n",
    "decoded_text = caesar_cipher_decoder(text, shift)\n",
    "print(\"Decoded text:\", decoded_text)"
   ]
  },
  {
   "cell_type": "code",
   "execution_count": null,
   "id": "8bbf80d8-7563-4ed5-b0f0-407eb6775406",
   "metadata": {},
   "outputs": [],
   "source": [
    "44. Find the most frequent word in a string."
   ]
  },
  {
   "cell_type": "code",
   "execution_count": null,
   "id": "47b6950a-e87d-4a8c-9fd9-8909730bb64e",
   "metadata": {},
   "outputs": [],
   "source": [
    "from collections import Counter\n",
    "from functools import reduce\n",
    " \n",
    "def most_frequent_word(test_list):\n",
    "    all_words = reduce(lambda a, b: a + b, [sub.split() for sub in test_list])\n",
    "    word_counts = Counter(all_words)\n",
    "    return word_counts.most_common(1)[0][0]\n",
    " \n",
    "test_list = [\"python best for coders', 'python is fun', 'python easy to learn\"]\n",
    "print(\"The original list is: \", test_list)\n",
    "print(\"Word with most frequency: \", most_frequent_word(test_list))"
   ]
  },
  {
   "cell_type": "code",
   "execution_count": null,
   "id": "f4a5b986-f5ae-4db5-a7ec-eefaad8ceb8d",
   "metadata": {},
   "outputs": [],
   "source": [
    "45. Find all unique words in a string."
   ]
  },
  {
   "cell_type": "code",
   "execution_count": null,
   "id": "25d889a1-3382-4aae-a974-7ecaa09f8eea",
   "metadata": {},
   "outputs": [],
   "source": [
    "import re\n",
    "\n",
    "def unique_words(input_string):\n",
    "    # Remove punctuation and convert to lowercase\n",
    "    clean_string = re.sub(r'[^\\w\\s]', '', input_string).lower()\n",
    "\n",
    "    # Split the string into words and convert to a set for uniqueness\n",
    "    words = set(clean_string.split())\n",
    "\n",
    "    return words\n",
    "\n",
    "# Example string\n",
    "input_str = \"Hello world, hello there! How's the world?\"\n",
    "\n",
    "# Find unique words\n",
    "unique_word_set = unique_words(input_str)\n",
    "\n",
    "# Print the result\n",
    "print(\"Unique words:\", unique_word_set)"
   ]
  },
  {
   "cell_type": "code",
   "execution_count": null,
   "id": "ce810cba-d996-4c83-8de5-ebad6a907e91",
   "metadata": {},
   "outputs": [],
   "source": [
    "46. Count the number of syllables in a string."
   ]
  },
  {
   "cell_type": "code",
   "execution_count": null,
   "id": "aec36f3e-be99-4401-9546-6864878c01f3",
   "metadata": {},
   "outputs": [],
   "source": [
    "import re\n",
    "def count_syllables(word):\n",
    "    # Count vowel groups using regular expression\n",
    "    vowel_groups = re.findall(r'[aeiouy]+', word, re.IGNORECASE)\n",
    "\n",
    "    return len(vowel_groups)\n",
    "word1 = \"hello\"\n",
    "syllables1 = count_syllables(word1)\n",
    "print(f\"'{word1}' has {syllables1} syllables.\")\n"
   ]
  },
  {
   "cell_type": "code",
   "execution_count": null,
   "id": "35f344a8-5b95-45ea-ab3e-86f789bbe8af",
   "metadata": {},
   "outputs": [],
   "source": [
    "47. Check if a string contains any special characters."
   ]
  },
  {
   "cell_type": "code",
   "execution_count": null,
   "id": "ab0c7136-17a6-43ad-b2e6-7f07c66509e2",
   "metadata": {},
   "outputs": [],
   "source": [
    "import re\n",
    "def contains_special_characters(input_string):\n",
    "    pattern = re.compile(r'[!@#$%^&*()_+{}\\[\\]:;<>,.?~\\\\/]')\n",
    "    match = pattern.search(input_string)\n",
    "    return bool(match)\n",
    "string = \"Hello, world!\"\n",
    "result = contains_special_characters(string)\n",
    "print(result)"
   ]
  },
  {
   "cell_type": "code",
   "execution_count": null,
   "id": "010b0111-a659-4ff2-904e-accd202dd0d9",
   "metadata": {},
   "outputs": [],
   "source": [
    "48. Remove the nth word from a string."
   ]
  },
  {
   "cell_type": "code",
   "execution_count": null,
   "id": "b5c84daf-bd5c-40fa-b8e8-5bf6852c41f1",
   "metadata": {},
   "outputs": [],
   "source": [
    "def remove_nth_word(input_string, n):\n",
    "    words = input_string.split()\n",
    "\n",
    "    if n >= 1 and n <= len(words):\n",
    "        removed_word = words.pop(n - 1)\n",
    "        modified_string = ' '.join(words)\n",
    "        return modified_string, removed_word\n",
    "    else:\n",
    "        return None, None\n",
    "\n",
    "input_str = input(\"Enter a string:\")\n",
    "n_value = int(input(\"Enter the nth number want to remove: \"))\n",
    "\n",
    "modified_str, removed_word = remove_nth_word(input_str, n_value)\n",
    "\n",
    "# Print the results\n",
    "print(\"Original string:\", input_str)\n",
    "if modified_str is not None:\n",
    "    print(\"Modified string:\", modified_str)\n",
    "    print(\"Removed word:\", removed_word)\n",
    "else:\n",
    "    print(\"Invalid n value.\")"
   ]
  },
  {
   "cell_type": "code",
   "execution_count": null,
   "id": "d25236bf-8995-422f-afb4-4b1d4baa990f",
   "metadata": {},
   "outputs": [],
   "source": [
    "49. Insert a word at the nth position in a string."
   ]
  },
  {
   "cell_type": "code",
   "execution_count": null,
   "id": "634301b4-d09b-4614-9466-28951b678c6c",
   "metadata": {},
   "outputs": [],
   "source": [
    "def insert_word_at_n(input_string, word_to_insert, n):\n",
    "    words = input_string.split()\n",
    "    if n >= 0 and n <= len(words):\n",
    "        words.insert(n, word_to_insert)\n",
    "        modified_string = ' '.join(words)\n",
    "\n",
    "        return modified_string\n",
    "    else:\n",
    "        return None\n",
    "    \n",
    "input_str = input(\"Enter a string:\")\n",
    "word_to_insert = input(\"Enter a word to insert:\")\n",
    "n_value = int(input(\"Enter the position want to add: \"))\n",
    "\n",
    "modified_str = insert_word_at_n(input_str, word_to_insert, n_value)\n",
    "\n",
    "print(\"Original string:\", input_str)\n",
    "if modified_str is not None:\n",
    "    print(\"Modified string:\", modified_str)\n",
    "else:\n",
    "    print(\"Invalid n value.\")"
   ]
  },
  {
   "cell_type": "code",
   "execution_count": null,
   "id": "86772b6d-dd17-4209-97e2-16b68e164040",
   "metadata": {},
   "outputs": [],
   "source": [
    "50. Convert a CSV string to a list of lists."
   ]
  },
  {
   "cell_type": "code",
   "execution_count": null,
   "id": "17ec44c6-e996-4613-938b-1e439f8648f3",
   "metadata": {},
   "outputs": [],
   "source": [
    "def csv_string_to_list(csv_string):\n",
    "    lines = csv_string.split('\\n')\n",
    "    result = []\n",
    "\n",
    "    for line in lines:\n",
    "        fields = line.split(',')\n",
    "        result.append(fields)\n",
    "\n",
    "    return result\n",
    "\n",
    "csv_data = \"Name, Age, Country\\nJohn, 25, USA\\nAlice, 30, Canada\\nBob, 22, UK\"\n",
    "\n",
    "list_of_lists = csv_string_to_list(csv_data)\n",
    "\n",
    "for row in list_of_lists:\n",
    "    print(row)"
   ]
  },
  {
   "cell_type": "code",
   "execution_count": null,
   "id": "0b55dcd1-07f2-4903-8e14-c9b61e6d5ddf",
   "metadata": {},
   "outputs": [],
   "source": [
    "List Based Practice Problem :"
   ]
  },
  {
   "cell_type": "code",
   "execution_count": null,
   "id": "8d8786e9-2aec-43c1-a127-993ab585f4dd",
   "metadata": {},
   "outputs": [],
   "source": [
    "1. Create a list with integers from 1 to 10."
   ]
  },
  {
   "cell_type": "code",
   "execution_count": null,
   "id": "cc3a0e6d-4387-4bee-822d-711056ad10ba",
   "metadata": {},
   "outputs": [],
   "source": [
    "integer_list = [i for i in range(1, 11)]\n",
    "\n",
    "print(integer_list)"
   ]
  },
  {
   "cell_type": "code",
   "execution_count": null,
   "id": "8e7db479-6639-4400-b7ce-ac3c84cfadbc",
   "metadata": {},
   "outputs": [],
   "source": [
    "2. Find the length of a list without using the `len()` function."
   ]
  },
  {
   "cell_type": "code",
   "execution_count": null,
   "id": "4bb4d3be-d85c-4675-959d-680a5ea3b089",
   "metadata": {},
   "outputs": [],
   "source": [
    "my_list = [1, 2, 3, 4, 5, 6, 7, 8, 9, 10]\n",
    "count = 0\n",
    "for i in my_list:\n",
    "    count += 1\n",
    "print(\"The length of the list is:\", count)"
   ]
  },
  {
   "cell_type": "code",
   "execution_count": null,
   "id": "686a9ebd-73be-4848-835d-1b85beddfcdf",
   "metadata": {},
   "outputs": [],
   "source": [
    "3. Append an element to the end of a list."
   ]
  },
  {
   "cell_type": "code",
   "execution_count": null,
   "id": "668c1562-de36-435a-a689-862897bf1b09",
   "metadata": {},
   "outputs": [],
   "source": [
    "my_list = [1, 2, 3, 4, 5, 6, 7, 8, 9, 10]\n",
    "new_element = 11\n",
    "my_list.append(new_element)\n",
    "print(\"Updated list:\", my_list)"
   ]
  },
  {
   "cell_type": "code",
   "execution_count": null,
   "id": "c5c752c8-a996-42a3-a9cd-71e76097927d",
   "metadata": {},
   "outputs": [],
   "source": [
    "4. Insert an element at a specific index in a list."
   ]
  },
  {
   "cell_type": "code",
   "execution_count": null,
   "id": "afe3bfd9-e87d-4449-88b6-ed5f392186f3",
   "metadata": {},
   "outputs": [],
   "source": [
    "my_list = [1, 2, 3, 4, 5, 6, 7, 8, 9, 10]\n",
    "new_element = 11\n",
    "index_to_insert = 11\n",
    "my_list.insert(index_to_insert, new_element)\n",
    "print(\"Updated list:\", my_list)"
   ]
  },
  {
   "cell_type": "code",
   "execution_count": null,
   "id": "2a56b586-2f4e-4b89-a801-57ef12378821",
   "metadata": {},
   "outputs": [],
   "source": [
    "5. Remove an element from a list by its value."
   ]
  },
  {
   "cell_type": "code",
   "execution_count": null,
   "id": "5b6bffdb-ecd2-4b95-b35e-05adf380451b",
   "metadata": {},
   "outputs": [],
   "source": [
    "my_list = [1, 2, 3, 4, 5, 6, 7, 8, 9, 10]\n",
    "remove_element = 10\n",
    "my_list.remove(remove_element)\n",
    "print(\"Updated list:\", my_list)"
   ]
  },
  {
   "cell_type": "code",
   "execution_count": null,
   "id": "5b41127c-b3d1-4435-85fe-a9e2f9532685",
   "metadata": {},
   "outputs": [],
   "source": [
    "6. Remove an element from a list by its index."
   ]
  },
  {
   "cell_type": "code",
   "execution_count": null,
   "id": "db8ed600-bafe-4e55-9690-38f90eb992d3",
   "metadata": {},
   "outputs": [],
   "source": [
    "my_list = [1, 2, 3, 4, 5, 6, 7, 8, 9, 10]\n",
    "remove_index = 9\n",
    "my_list.pop(remove_index)\n",
    "print(\"Updated list:\", my_list)"
   ]
  },
  {
   "cell_type": "code",
   "execution_count": null,
   "id": "de38ee7c-bdba-4128-99a5-82598baca203",
   "metadata": {},
   "outputs": [],
   "source": [
    "7. Check if an element exists in a list."
   ]
  },
  {
   "cell_type": "code",
   "execution_count": null,
   "id": "0fa98efd-05b4-424b-a49e-d01351688da4",
   "metadata": {},
   "outputs": [],
   "source": [
    "lst=[1, 2, 3, 4, 5, 6, 7, 8, 9, 10]\n",
    "i=7\n",
    "if i in lst:\n",
    "    print(i,\"is exist in list\")\n",
    "else:\n",
    "    print(i,\"not exist in list\")"
   ]
  },
  {
   "cell_type": "code",
   "execution_count": null,
   "id": "581832bc-51a8-4169-8b6b-31969884313c",
   "metadata": {},
   "outputs": [],
   "source": [
    "8. Find the index of the first occurrence of an element in a list."
   ]
  },
  {
   "cell_type": "code",
   "execution_count": null,
   "id": "4da00a6f-5bd0-4b43-b18b-d1ba12ced26e",
   "metadata": {},
   "outputs": [],
   "source": [
    "my_list = [1, 2, 3, 4, 5, 6, 7, 8, 9, 10]\n",
    "\n",
    "element_to_find = 5\n",
    "\n",
    "index = my_list.index(element_to_find)\n",
    "\n",
    "print(f\"The index of {element_to_find} is {index}\")"
   ]
  },
  {
   "cell_type": "code",
   "execution_count": null,
   "id": "cb4ba4b3-0a14-4be6-bfba-fd473b8af0e0",
   "metadata": {},
   "outputs": [],
   "source": [
    "9. Count the occurrences of an element in a list."
   ]
  },
  {
   "cell_type": "code",
   "execution_count": null,
   "id": "9ea9ac9e-7062-4f87-857a-895587b9f87c",
   "metadata": {},
   "outputs": [],
   "source": [
    "my_list = [1, 2, 3, 4, 2, 2, 7, 8, 9, 10]\n",
    "print(my_list)   \n",
    "count = my_list.count(2)  \n",
    "print(\"Occurences of 2:\",count)  "
   ]
  },
  {
   "cell_type": "code",
   "execution_count": null,
   "id": "94b8c7aa-447c-46fa-b3a1-69426415da57",
   "metadata": {},
   "outputs": [],
   "source": [
    "10. Reverse the order of elements in a list."
   ]
  },
  {
   "cell_type": "code",
   "execution_count": null,
   "id": "001636c2-037d-4927-86c1-e8f108c35760",
   "metadata": {},
   "outputs": [],
   "source": [
    "my_list = [1, 2, 3, 4, 2, 2, 7, 8, 9, 10]\n",
    "\n",
    "my_list.reverse()\n",
    "print(\"My List\",my_list)\n",
    "print(\"Reversed list:\", my_list)"
   ]
  },
  {
   "cell_type": "code",
   "execution_count": null,
   "id": "c725756d-7f28-4e84-82df-73871e1ef697",
   "metadata": {},
   "outputs": [],
   "source": [
    "11. Sort a list in ascending order."
   ]
  },
  {
   "cell_type": "code",
   "execution_count": null,
   "id": "54e2516c-d287-44e0-8501-7706915ea1b2",
   "metadata": {},
   "outputs": [],
   "source": [
    "my_list = [1, 2, 3, 4, 2, 2, 7, 8, 9, 10]\n",
    "my_list.sort()\n",
    "\n",
    "print(\"Sorted list in ascending order:\", my_list)"
   ]
  },
  {
   "cell_type": "code",
   "execution_count": null,
   "id": "f48a5305-541f-46de-8418-9e5c1974500a",
   "metadata": {},
   "outputs": [],
   "source": [
    "my_list = [1, 2, 3, 4, 2, 2, 7, 8, 9, 10]\n",
    "my_list.sort(reverse=True)\n",
    "\n",
    "print(\"Sorted list in descending order:\", my_list)"
   ]
  },
  {
   "cell_type": "code",
   "execution_count": null,
   "id": "46bb06f7-c28c-49b9-a34c-885116bd4a77",
   "metadata": {},
   "outputs": [],
   "source": [
    "13. Create a list of even numbers from 1 to 20."
   ]
  },
  {
   "cell_type": "code",
   "execution_count": null,
   "id": "192960d3-6284-47fc-b3c7-05b64842f9c6",
   "metadata": {},
   "outputs": [],
   "source": [
    "even_numbers = [x for x in range(2, 21, 2)]\n",
    "\n",
    "print(\"List of even numbers:\", even_numbers)"
   ]
  },
  {
   "cell_type": "code",
   "execution_count": null,
   "id": "df254fbb-ac62-4f9d-9d1f-cb63deac930d",
   "metadata": {},
   "outputs": [],
   "source": [
    "14. Create a list of odd numbers from 1 to 20."
   ]
  },
  {
   "cell_type": "code",
   "execution_count": null,
   "id": "9ffb2e86-6f95-4f60-8c77-3fee6a8a5d25",
   "metadata": {},
   "outputs": [],
   "source": [
    "even_numbers = [x for x in range(1, 20, 2)]\n",
    "\n",
    "print(\"List of odd numbers:\", even_numbers)"
   ]
  },
  {
   "cell_type": "code",
   "execution_count": null,
   "id": "1b844cd2-0fb0-4e46-8682-449588ae21f0",
   "metadata": {},
   "outputs": [],
   "source": [
    "15. Find the sum of all elements in a list."
   ]
  },
  {
   "cell_type": "code",
   "execution_count": null,
   "id": "de235b43-9cfd-4759-a2ca-80105bab6cdb",
   "metadata": {},
   "outputs": [],
   "source": [
    "my_list = [1, 2, 3, 4, 2, 2, 7, 8, 9, 10]\n",
    "total_sum = sum(my_list)\n",
    "print(\"Sum of elements:\", total_sum)"
   ]
  },
  {
   "cell_type": "code",
   "execution_count": null,
   "id": "73933ee5-a687-497c-be78-32f72a925fed",
   "metadata": {},
   "outputs": [],
   "source": [
    "16. Find the maximum value in a list."
   ]
  },
  {
   "cell_type": "code",
   "execution_count": null,
   "id": "bc2a4799-0fb7-494f-b462-9aee8d2fd0ce",
   "metadata": {},
   "outputs": [],
   "source": [
    "my_list = [1, 2, 3, 4, 2, 2, 7, 8, 9, 10]\n",
    "max_value = max(my_list)\n",
    "print(\"Maximum value:\", max_value)"
   ]
  },
  {
   "cell_type": "code",
   "execution_count": null,
   "id": "2df31cf5-15d9-47ee-9ab2-cdf32bea9efa",
   "metadata": {},
   "outputs": [],
   "source": [
    "17. Find the minimum value in a list."
   ]
  },
  {
   "cell_type": "code",
   "execution_count": null,
   "id": "3b6fccca-d431-4c05-8219-5b9bbd6ab25e",
   "metadata": {},
   "outputs": [],
   "source": [
    "my_list = [1, 2, 3, 4, 2, 2, 7, 8, 9, 10]\n",
    "min_value = min(my_list)\n",
    "print(\"Minimum value:\", min_value)"
   ]
  },
  {
   "cell_type": "code",
   "execution_count": null,
   "id": "67d49b56-9f33-4774-82bb-33adde944207",
   "metadata": {},
   "outputs": [],
   "source": [
    "18. Create a list of squares of numbers from 1 to 10."
   ]
  },
  {
   "cell_type": "code",
   "execution_count": null,
   "id": "44d514ff-9134-4e8d-9702-8ab27dbe5a9a",
   "metadata": {},
   "outputs": [],
   "source": [
    "squares = [x ** 2 for x in range(1, 11)]\n",
    "\n",
    "print(\"List of squares:\", squares)"
   ]
  },
  {
   "cell_type": "code",
   "execution_count": null,
   "id": "397b1a5c-da48-4a31-9336-33f528731b79",
   "metadata": {},
   "outputs": [],
   "source": [
    "19. Create a list of random numbers."
   ]
  },
  {
   "cell_type": "code",
   "execution_count": null,
   "id": "37241b8a-a5f9-470c-a280-2f2db6ced86a",
   "metadata": {},
   "outputs": [],
   "source": [
    "import random\n",
    "#Generate 5 random numbers between 10 and 30\n",
    "randomlist = random.sample(range(10, 30), 5)\n",
    "print(randomlist)"
   ]
  },
  {
   "cell_type": "code",
   "execution_count": null,
   "id": "efea16c1-ff4a-47cd-8d2d-5de58a029826",
   "metadata": {},
   "outputs": [],
   "source": [
    "20. Remove duplicates from a list."
   ]
  },
  {
   "cell_type": "code",
   "execution_count": null,
   "id": "53fd1a9e-e02f-4f5f-b89c-9a07bac94661",
   "metadata": {},
   "outputs": [],
   "source": [
    "my_list = [10, 20, 30, 20, 40, 10, 50, 30]\n",
    "\n",
    "unique_list = list(set(my_list))\n",
    "\n",
    "print(\"My list:\" ,my_list)\n",
    "print(\"List without duplicates:\", unique_list)"
   ]
  },
  {
   "cell_type": "code",
   "execution_count": null,
   "id": "8d3f1001-ba6c-4bbe-b6e7-e71ae1f2c8ae",
   "metadata": {},
   "outputs": [],
   "source": [
    "21. Find the common elements between two lists."
   ]
  },
  {
   "cell_type": "code",
   "execution_count": null,
   "id": "0b5c6323-eb15-4d12-8f16-034239616ec3",
   "metadata": {},
   "outputs": [],
   "source": [
    "list1 = [1,2,3,4,5,6]\n",
    "list2 = [3, 5, 7, 9]\n",
    "list(set(list1).intersection(list2))"
   ]
  },
  {
   "cell_type": "code",
   "execution_count": null,
   "id": "34cfe613-d188-4ac7-9a35-7c32af7463de",
   "metadata": {},
   "outputs": [],
   "source": [
    "22. Find the difference between two lists."
   ]
  },
  {
   "cell_type": "code",
   "execution_count": null,
   "id": "74f22ca1-9986-4003-a279-c6f9a7cc2bca",
   "metadata": {},
   "outputs": [],
   "source": [
    "list1 = [1,2,3,4,5,6]\n",
    "list2 = [3, 5, 7, 9]\n",
    "list(set(list1).difference(list2))"
   ]
  },
  {
   "cell_type": "code",
   "execution_count": null,
   "id": "8bc72a91-7e23-4742-a4db-05b13630e9bf",
   "metadata": {},
   "outputs": [],
   "source": [
    "23. Merge two lists."
   ]
  },
  {
   "cell_type": "code",
   "execution_count": null,
   "id": "a15ba36c-b86e-4453-a815-b26572ed0579",
   "metadata": {},
   "outputs": [],
   "source": [
    "list1 = [1,2,3,4,5,6]\n",
    "list2 = [3, 5, 7, 9]\n",
    "\n",
    "merged_list = list1 + list2\n",
    "print(\"Merged list:\", merged_list)"
   ]
  },
  {
   "cell_type": "code",
   "execution_count": null,
   "id": "60512bba-0f9c-46ab-a6a2-743a63105da6",
   "metadata": {},
   "outputs": [],
   "source": [
    "24. Multiply all elements in a list by 2."
   ]
  },
  {
   "cell_type": "code",
   "execution_count": null,
   "id": "8cb6f4da-a8a8-408d-b46e-1c6e35275e0f",
   "metadata": {},
   "outputs": [],
   "source": [
    "list = [1,2,3,4,5,6]\n",
    "multiplied_list = [x * 2 for x in list]\n",
    "print(\"Multiplied list:\", multiplied_list)"
   ]
  },
  {
   "cell_type": "code",
   "execution_count": null,
   "id": "4774f592-40fa-4796-8125-abc158c720b7",
   "metadata": {},
   "outputs": [],
   "source": [
    "25. Filter out all even numbers from a list."
   ]
  },
  {
   "cell_type": "code",
   "execution_count": null,
   "id": "1f241904-ede2-48d4-88c4-f0125cc52bfa",
   "metadata": {},
   "outputs": [],
   "source": [
    "my_list = [1, 2, 3, 4, 2, 2, 7, 8, 9, 10]\n",
    "filtered_list = [x for x in my_list if x % 2 != 0]\n",
    "print(\"Filtered list (odd numbers):\", filtered_list)"
   ]
  },
  {
   "cell_type": "code",
   "execution_count": null,
   "id": "e53674e9-e73f-4445-9180-58a0a2c50f96",
   "metadata": {},
   "outputs": [],
   "source": [
    "26. Convert a list of strings to a list of integers."
   ]
  },
  {
   "cell_type": "code",
   "execution_count": null,
   "id": "a2636db4-bfcc-485a-ba3c-b7e24afa7334",
   "metadata": {},
   "outputs": [],
   "source": [
    "string_list = [\"10\", \"20\", \"30\", \"40\", \"50\"]\n",
    "\n",
    "integer_list = [int(x) for x in string_list]\n",
    "\n",
    "print(\"List of integers:\", integer_list)"
   ]
  },
  {
   "cell_type": "code",
   "execution_count": null,
   "id": "93fcb0b9-d050-4d38-9367-db581d4696cd",
   "metadata": {},
   "outputs": [],
   "source": [
    "27. Convert a list of integers to a list of strings."
   ]
  },
  {
   "cell_type": "code",
   "execution_count": null,
   "id": "28ce5645-6669-478c-b888-7ef5ffee6660",
   "metadata": {},
   "outputs": [],
   "source": [
    "integer_list = [10, 20, 30, 40, 50]\n",
    "\n",
    "str_list = [str(x) for x in integer_list]\n",
    "\n",
    "print(\"List of string:\", str_list)"
   ]
  },
  {
   "cell_type": "code",
   "execution_count": null,
   "id": "04750fd1-ddbe-4f33-b0c5-4e588c0f4c08",
   "metadata": {},
   "outputs": [],
   "source": [
    "28. Flatten a nested list."
   ]
  },
  {
   "cell_type": "code",
   "execution_count": null,
   "id": "c9e161c4-84fc-4bda-be58-d58d7d1c2e88",
   "metadata": {},
   "outputs": [],
   "source": [
    "nested_list = [[1, 2, 3], [4, 5], [6, 7, 8, 9]]\n",
    "\n",
    "def flatten_list(nested):\n",
    "    flattened = []\n",
    "    for sublist in nested:\n",
    "        if isinstance(sublist, list):\n",
    "            flattened.extend(flatten_list(sublist))\n",
    "        else:\n",
    "            flattened.append(sublist)\n",
    "    return flattened\n",
    "\n",
    "flattened_list = flatten_list(nested_list)\n",
    "\n",
    "print(\"Flattened list:\", flattened_list)"
   ]
  },
  {
   "cell_type": "code",
   "execution_count": null,
   "id": "9322a584-460f-4ed6-af43-31c613025905",
   "metadata": {},
   "outputs": [],
   "source": [
    "29. Create a list of the first 10 Fibonacci numbers"
   ]
  },
  {
   "cell_type": "code",
   "execution_count": null,
   "id": "9b06e069-2aac-479d-9cc1-f5636c8d6082",
   "metadata": {},
   "outputs": [],
   "source": [
    "def generate_fibonacci(n):\n",
    "    fibonacci_list = [0, 1]  \n",
    "    for i in range(2, n):\n",
    "        next_fibonacci = fibonacci_list[i - 1] + fibonacci_list[i - 2]\n",
    "        fibonacci_list.append(next_fibonacci)\n",
    "\n",
    "    return fibonacci_list\n",
    "\n",
    "fibonacci_numbers = generate_fibonacci(10)\n",
    "\n",
    "print(\"First 10 Fibonacci numbers:\", fibonacci_numbers)"
   ]
  },
  {
   "cell_type": "code",
   "execution_count": null,
   "id": "821af323-dd95-42e2-8f8f-44bee44cb9d0",
   "metadata": {},
   "outputs": [],
   "source": [
    "30. Check if a list is sorted."
   ]
  },
  {
   "cell_type": "code",
   "execution_count": null,
   "id": "ea7ed0e9-3dcc-4245-888b-49033bb3dfe7",
   "metadata": {},
   "outputs": [],
   "source": [
    "def is_sorted_ascending(lst):\n",
    "    for i in range(1, len(lst)):\n",
    "        if lst[i] < lst[i - 1]:\n",
    "            return False\n",
    "    return True\n",
    "\n",
    "ascending_list = [10, 20, 30, 40, 50]\n",
    "\n",
    "if is_sorted_ascending(ascending_list):\n",
    "    print(\"The list is sorted in ascending order.\")\n",
    "else:\n",
    "    print(\"The list is not sorted in ascending order.\")"
   ]
  },
  {
   "cell_type": "code",
   "execution_count": null,
   "id": "7ced8fe5-8a10-447f-a056-1d58bf6b513a",
   "metadata": {},
   "outputs": [],
   "source": [
    "31. Rotate a list to the left by `n` positions."
   ]
  },
  {
   "cell_type": "code",
   "execution_count": null,
   "id": "9d059426-4ad1-4711-b252-797848fec8e6",
   "metadata": {},
   "outputs": [],
   "source": [
    "def rotate_left(lst, n):\n",
    "    n = n % len(lst)  # Normalize n to handle cases where n is larger than the list length\n",
    "    rotated = lst[n:] + lst[:n]\n",
    "    return rotated\n",
    "\n",
    "# Example list\n",
    "my_list = [1, 2, 3, 4, 5, 6]\n",
    "\n",
    "# Number of positions to rotate by\n",
    "n = 2\n",
    "\n",
    "# Rotate the list to the left by n positions\n",
    "rotated_list = rotate_left(my_list, n)\n",
    "\n",
    "# Print the rotated list\n",
    "print(\"Rotated list:\", rotated_list)"
   ]
  },
  {
   "cell_type": "code",
   "execution_count": null,
   "id": "8abf648a-1617-45a0-afeb-532d2a8acd66",
   "metadata": {},
   "outputs": [],
   "source": [
    "32. Rotate a list to the right by `n` positions."
   ]
  },
  {
   "cell_type": "code",
   "execution_count": null,
   "id": "a8eb9984-b4f9-4e57-8d59-370fab9400b3",
   "metadata": {},
   "outputs": [],
   "source": [
    "def rotate_right(lst, n):\n",
    "    n = n % len(lst)  # Normalize n to handle cases where n is larger than the list length\n",
    "    rotated = lst[-n:] + lst[:-n]\n",
    "    return rotated\n",
    "\n",
    "# Example list\n",
    "my_list = [1, 2, 3, 4, 5, 6]\n",
    "\n",
    "# Number of positions to rotate by\n",
    "n = 2\n",
    "\n",
    "# Rotate the list to the right by n positions\n",
    "rotated_list = rotate_right(my_list, n)\n",
    "\n",
    "# Print the rotated list\n",
    "print(\"Rotated list:\", rotated_list)"
   ]
  },
  {
   "cell_type": "code",
   "execution_count": null,
   "id": "25177611-ecca-4fb7-9943-28724e976980",
   "metadata": {},
   "outputs": [],
   "source": [
    "33. Create a list of prime numbers up to 50."
   ]
  },
  {
   "cell_type": "code",
   "execution_count": null,
   "id": "3231dac6-3993-4934-aebc-119ea682a049",
   "metadata": {},
   "outputs": [],
   "source": [
    "print([i for i in range(2, 50) if 0 not in [i%n for n in range(2, i)]])"
   ]
  },
  {
   "cell_type": "code",
   "execution_count": null,
   "id": "244a4c4e-d289-48d7-bd36-472730560d63",
   "metadata": {},
   "outputs": [],
   "source": [
    "34. Split a list into chunks of size `n`."
   ]
  },
  {
   "cell_type": "code",
   "execution_count": null,
   "id": "33d31ab6-1200-4077-89a3-eeb3fdda9f11",
   "metadata": {},
   "outputs": [],
   "source": [
    "def sieve_of_eratosthenes(limit):\n",
    "    primes = []\n",
    "    is_prime = [True] * (limit + 1)\n",
    "    is_prime[0] = is_prime[1] = False\n",
    "\n",
    "    for num in range(2, int(limit ** 0.5) + 1):\n",
    "        if is_prime[num]:\n",
    "            primes.append(num)\n",
    "            for multiple in range(num * num, limit + 1, num):\n",
    "                is_prime[multiple] = False\n",
    "\n",
    "    for num in range(int(limit ** 0.5) + 1, limit + 1):\n",
    "        if is_prime[num]:\n",
    "            primes.append(num)\n",
    "\n",
    "    return primes\n",
    "\n",
    "# Create a list of prime numbers up to 50\n",
    "prime_numbers = sieve_of_eratosthenes(50)\n",
    "\n",
    "# Print the list of prime numbers\n",
    "print(\"List of prime numbers up to 50:\", prime_numbers)"
   ]
  },
  {
   "cell_type": "code",
   "execution_count": null,
   "id": "7c6e9ee8-8230-4d6a-bf2c-bbe52ba1c49f",
   "metadata": {},
   "outputs": [],
   "source": [
    "35. Find the second largest number in a list."
   ]
  },
  {
   "cell_type": "code",
   "execution_count": null,
   "id": "2bfb6a6b-37a9-46d9-aea4-e82508c9ca3a",
   "metadata": {},
   "outputs": [],
   "source": [
    "my_list = [10, 5, 20, 15, 30, 25]\n",
    "\n",
    "sorted_list = sorted(set(my_list))\n",
    "\n",
    "if len(sorted_list) >= 2:\n",
    "    second_largest = sorted_list[-2]\n",
    "    print(\"Second largest number:\", second_largest)\n",
    "else:\n",
    "    print(\"The list does not contain enough elements.\")"
   ]
  },
  {
   "cell_type": "code",
   "execution_count": null,
   "id": "7ba7971e-f0ac-42c4-92f5-9d83630c63fc",
   "metadata": {},
   "outputs": [],
   "source": [
    "36. Replace every element in a list with its square."
   ]
  },
  {
   "cell_type": "code",
   "execution_count": null,
   "id": "4e967b8b-b80e-4e3f-bc3c-cf03afcd1a8e",
   "metadata": {},
   "outputs": [],
   "source": [
    "my_list = [10, 5, 20, 15, 30, 25]\n",
    "\n",
    "# Replace every element with its square using a list comprehension\n",
    "squared_list = [x ** 2 for x in my_list]\n",
    "\n",
    "# Print the squared list\n",
    "print(\"Squared list:\", squared_list)"
   ]
  },
  {
   "cell_type": "code",
   "execution_count": null,
   "id": "eddd64e8-f4e0-4e69-80a0-9545b3eb7576",
   "metadata": {},
   "outputs": [],
   "source": [
    "37. Convert a list to a dictionary where list elements become keys and their\n",
    "indices become values."
   ]
  },
  {
   "cell_type": "code",
   "execution_count": null,
   "id": "cf2fa9cc-daa5-417a-9b31-a5e71e34ff59",
   "metadata": {},
   "outputs": [],
   "source": [
    "my_list = ['apple', 'banana', 'cherry', 'date', 'elderberry']\n",
    "\n",
    "# Convert list to dictionary using dictionary comprehension\n",
    "my_dict = {element: index for index, element in enumerate(my_list)}\n",
    "\n",
    "# Print the resulting dictionary\n",
    "print(\"Converted dictionary:\", my_dict)"
   ]
  },
  {
   "cell_type": "code",
   "execution_count": null,
   "id": "6d44b561-fe4c-44b8-adec-3b3f2682d240",
   "metadata": {},
   "outputs": [],
   "source": [
    "38. Shuffle the elements of a list randomly"
   ]
  },
  {
   "cell_type": "code",
   "execution_count": null,
   "id": "b53641af-480f-452c-a1df-bf746b1f3fd1",
   "metadata": {},
   "outputs": [],
   "source": [
    "import random\n",
    "\n",
    "my_list = [1, 2, 3, 4, 5, 6, 7, 8, 9, 10]\n",
    "\n",
    "random.shuffle(my_list)\n",
    "\n",
    "# Print the shuffled list\n",
    "print(\"Shuffled list:\", my_list)"
   ]
  },
  {
   "cell_type": "code",
   "execution_count": null,
   "id": "6fe14a5a-ceb0-4d6c-bada-97b4a82d9468",
   "metadata": {},
   "outputs": [],
   "source": [
    "39. Create a list of the first 10 factorial numbers"
   ]
  },
  {
   "cell_type": "code",
   "execution_count": null,
   "id": "fc50a74e-a7bc-43cd-a730-28beeefa2b29",
   "metadata": {},
   "outputs": [],
   "source": [
    "def factorial(n):\n",
    "    if n == 0 or n == 1:\n",
    "        return 1\n",
    "    else:\n",
    "        return n * factorial(n - 1)\n",
    "\n",
    "factorial_numbers = [factorial(i) for i in range(10)]\n",
    "print(\"List of the first 10 factorial numbers:\", factorial_numbers)"
   ]
  },
  {
   "cell_type": "code",
   "execution_count": null,
   "id": "a5b3e7f4-7c0b-4241-83b0-a602520dee7e",
   "metadata": {},
   "outputs": [],
   "source": [
    "40. Check if two lists have at least one element in common."
   ]
  },
  {
   "cell_type": "code",
   "execution_count": null,
   "id": "7fb58afa-ef6d-48ce-b87a-28a80b88e1fc",
   "metadata": {},
   "outputs": [],
   "source": [
    "def has_common_element(list1, list2):\n",
    "    for item in list1:\n",
    "        if item in list2:\n",
    "            return True\n",
    "    return False\n",
    "\n",
    "list1 = [1, 2, 3, 4, 5]\n",
    "list2 = [4, 5, 6, 7, 8]\n",
    "\n",
    "if has_common_element(list1, list2):\n",
    "    print(\"The lists have at least one common element.\")\n",
    "else:\n",
    "    print(\"The lists do not have any common elements.\")"
   ]
  },
  {
   "cell_type": "code",
   "execution_count": null,
   "id": "b6b3aec3-25e3-4516-abd1-21c51f736ca4",
   "metadata": {},
   "outputs": [],
   "source": [
    "41. Remove all elements from a list."
   ]
  },
  {
   "cell_type": "code",
   "execution_count": null,
   "id": "ee31400e-3499-4daf-b62e-0f6fea87a6e5",
   "metadata": {},
   "outputs": [],
   "source": [
    "LIST = [6, 0, 4, 1]\n",
    "print('LIST before clear:', LIST)\n",
    " \n",
    "# Clearing list\n",
    "LIST.clear()\n",
    "print('LIST after clear:', LIST)"
   ]
  },
  {
   "cell_type": "code",
   "execution_count": null,
   "id": "cc338c12-c6f1-4379-94fe-7cc890e1c78c",
   "metadata": {},
   "outputs": [],
   "source": [
    "42. Replace negative numbers in a list with 0."
   ]
  },
  {
   "cell_type": "code",
   "execution_count": null,
   "id": "2e0ace5e-fe06-42c5-bff8-4a27e9e60fc3",
   "metadata": {},
   "outputs": [],
   "source": [
    "my_list = [10, -5, 20, -15, 30, -25]\n",
    "\n",
    "for i in range(len(my_list)):\n",
    "    if my_list[i] < 0:\n",
    "        my_list[i] = 0\n",
    "\n",
    "print(\"List after replacing negative numbers with 0:\", my_list)"
   ]
  },
  {
   "cell_type": "code",
   "execution_count": null,
   "id": "27b6e251-cee8-434a-b6b2-0708611716eb",
   "metadata": {},
   "outputs": [],
   "source": [
    "43. Convert a string into a list of words."
   ]
  },
  {
   "cell_type": "code",
   "execution_count": null,
   "id": "4e421838-e14a-444c-9e9f-51140bd517ee",
   "metadata": {},
   "outputs": [],
   "source": [
    "string = \"Hello, world!\"\n",
    "List=string.split()\n",
    "print(List)"
   ]
  },
  {
   "cell_type": "code",
   "execution_count": null,
   "id": "ca84be49-14ed-4d43-8ab0-5d3e3734e42a",
   "metadata": {},
   "outputs": [],
   "source": [
    "44. Convert a list of words into a string."
   ]
  },
  {
   "cell_type": "code",
   "execution_count": null,
   "id": "d9c838cf-ba82-4afa-8464-0afb60b2d3c1",
   "metadata": {},
   "outputs": [],
   "source": [
    "s=['Hello,', 'world!']\n",
    "for i in s:\n",
    "  print(i,end=\" \")"
   ]
  },
  {
   "cell_type": "code",
   "execution_count": null,
   "id": "ddd78665-19f7-4462-b3a6-8beaa450679b",
   "metadata": {},
   "outputs": [],
   "source": [
    "l=['Hello,', 'world!']\n",
    "# using join() function\n",
    "s=''.join(l)\n",
    "print(s)"
   ]
  },
  {
   "cell_type": "code",
   "execution_count": null,
   "id": "ca725fa0-8b55-46dd-9ce1-f20c791371ce",
   "metadata": {},
   "outputs": [],
   "source": [
    "45.Create a list of the first `n` powers of 2."
   ]
  },
  {
   "cell_type": "code",
   "execution_count": null,
   "id": "c103310d-f419-4cdf-b01c-ace920e23e63",
   "metadata": {},
   "outputs": [],
   "source": [
    "def gen(x):\n",
    "   i = 2\n",
    "   for n in range(x + 1):\n",
    "       yield i\n",
    "       i <<= 1\n",
    "\n",
    "list(gen(4))"
   ]
  },
  {
   "cell_type": "code",
   "execution_count": null,
   "id": "9be32e41-c15e-4c99-b444-f55fa560dbc6",
   "metadata": {},
   "outputs": [],
   "source": [
    "46. Find the longest string in a list of strings."
   ]
  },
  {
   "cell_type": "code",
   "execution_count": null,
   "id": "f030aa3c-e1d7-4453-b8fa-11440e58ce77",
   "metadata": {},
   "outputs": [],
   "source": [
    "test_list = ['123', 'is', 'best', 'for', 'abcde']\n",
    " \n",
    "# create a new list of string lengths using a list comprehension\n",
    "lengths = [len(s) for s in test_list]\n",
    " \n",
    "# find the index of the longest string in the original list\n",
    "longest_index = lengths.index(max(lengths))\n",
    " \n",
    "# use the index to get the longest string from the original list\n",
    "longest_string = test_list[longest_index]\n",
    " \n",
    "# print the longest string\n",
    "print(\"Longest string is : \" + longest_string)"
   ]
  },
  {
   "cell_type": "code",
   "execution_count": null,
   "id": "f9cec42e-d519-4165-b0ba-c198ab321996",
   "metadata": {},
   "outputs": [],
   "source": [
    "47. Find the shortest string in a list of strings."
   ]
  },
  {
   "cell_type": "code",
   "execution_count": null,
   "id": "0b321a52-710c-45c4-981c-45f53f97d750",
   "metadata": {},
   "outputs": [],
   "source": [
    "test_list = ['123', 'is', 'best', 'for', 'abcde']\n",
    " \n",
    "lengths = [len(s) for s in test_list]\n",
    " \n",
    "shortest_index = lengths.index(min(lengths))\n",
    " \n",
    "shortest_string = test_list[longest_index]\n",
    " \n",
    "print(\"Shortest string is : \" + shortest_string)"
   ]
  },
  {
   "cell_type": "code",
   "execution_count": null,
   "id": "36732a1d-86aa-41a0-ac8f-1c7ea9d350a9",
   "metadata": {},
   "outputs": [],
   "source": [
    "48. Create a list of the first `n` triangular numbers."
   ]
  },
  {
   "cell_type": "code",
   "execution_count": null,
   "id": "74c45704-ff69-488a-b0b9-b3b4f72a8d72",
   "metadata": {},
   "outputs": [],
   "source": [
    "n = 10\n",
    "triangle_nums = []\n",
    "tri_num = 0\n",
    "\n",
    "for i in range(1, n + 1):\n",
    "    tri_num += i\n",
    "    triangle_nums.append(tri_num)\n",
    "\n",
    "print(triangle_nums)"
   ]
  },
  {
   "cell_type": "code",
   "execution_count": null,
   "id": "91b23277-09c6-438e-b958-94fca944ea5e",
   "metadata": {},
   "outputs": [],
   "source": [
    "49. Check if a list contains another list as a subsequence."
   ]
  },
  {
   "cell_type": "code",
   "execution_count": null,
   "id": "c3b90759-c87e-4d48-8310-625922a09b9e",
   "metadata": {},
   "outputs": [],
   "source": [
    "def is_subsequence(subsequence, main_list):\n",
    "    subseq_index = 0  # Index for the subsequence elements\n",
    "    for element in main_list:\n",
    "        if element == subsequence[subseq_index]:\n",
    "            subseq_index += 1\n",
    "            if subseq_index == len(subsequence):\n",
    "                return True\n",
    "    return False\n",
    "\n",
    "# Example main list and subsequence\n",
    "main_list = [1, 2, 3, 4, 5, 6, 7, 8, 9, 10]\n",
    "subsequence = [3, 5, 8]\n",
    "\n",
    "# Check if the main list contains the subsequence\n",
    "if is_subsequence(subsequence, main_list):\n",
    "    print(\"Main list contains the subsequence.\")\n",
    "else:\n",
    "    print(\"Main list does not contain the subsequence.\")"
   ]
  },
  {
   "cell_type": "code",
   "execution_count": null,
   "id": "9c1ebb66-3331-4de2-8c07-e466d1b3b673",
   "metadata": {},
   "outputs": [],
   "source": [
    "50. Swap two elements in a list by their indices"
   ]
  },
  {
   "cell_type": "code",
   "execution_count": null,
   "id": "b90ea6f2-a486-47a0-8d82-f3afe4af6c30",
   "metadata": {},
   "outputs": [],
   "source": [
    "#given list\n",
    "fruits = [\"oranges\", \"grapes\", \"bananas\"]\n",
    "\n",
    "print(\"List of fruits before swap:\")\n",
    "print(fruits)\n",
    "\n",
    "#swap elements at index 0 and 2\n",
    "fruits[0], fruits[2] = fruits[2], fruits[0]\n",
    "\n",
    "print(\"\\nList of fruits after swap:\")\n",
    "print(fruits)"
   ]
  },
  {
   "cell_type": "code",
   "execution_count": null,
   "id": "3ec4f314-5b7d-47c6-9cef-21a018213354",
   "metadata": {},
   "outputs": [],
   "source": [
    "Tuple Based Practice Problem :"
   ]
  },
  {
   "cell_type": "code",
   "execution_count": null,
   "id": "f8294ab8-d990-4c31-a084-7f106a5a029f",
   "metadata": {},
   "outputs": [],
   "source": [
    "1. Create a tuple with integers from 1 to 5."
   ]
  },
  {
   "cell_type": "code",
   "execution_count": null,
   "id": "9f2bb239-33d7-4ec9-9a1b-cedc7ef8155f",
   "metadata": {},
   "outputs": [],
   "source": [
    "my_tuple = (1, 2, 3, 4, 5)"
   ]
  },
  {
   "cell_type": "code",
   "execution_count": null,
   "id": "38723e72-1dd6-402a-a80c-e82fab8b941e",
   "metadata": {},
   "outputs": [],
   "source": [
    "2. Access the third element of a tuple."
   ]
  },
  {
   "cell_type": "code",
   "execution_count": null,
   "id": "e75f8d31-fb07-441a-834f-b13c1493a6a1",
   "metadata": {},
   "outputs": [],
   "source": [
    "my_tuple = (1, 2, 3, 4, 5)\n",
    "\n",
    "third_element = my_tuple[2]\n",
    "\n",
    "print(\"The third element of the tuple is:\", third_element)"
   ]
  },
  {
   "cell_type": "code",
   "execution_count": null,
   "id": "1659da20-2968-40a1-b47a-f650bd155f9c",
   "metadata": {},
   "outputs": [],
   "source": [
    "3. Find the length of a tuple without using the `len()` function."
   ]
  },
  {
   "cell_type": "code",
   "execution_count": null,
   "id": "26462f60-a354-4bb7-905c-6a96dbf9726c",
   "metadata": {},
   "outputs": [],
   "source": [
    "my_tuple = (1, 2, 3, 4, 5)\n",
    "\n",
    "count = 0\n",
    "for i in my_tuple:\n",
    "    count += 1\n",
    "print(\"The length of the tuple is:\", count)"
   ]
  },
  {
   "cell_type": "code",
   "execution_count": null,
   "id": "df0efe8d-7be4-46e2-9e79-0b429f97a39c",
   "metadata": {},
   "outputs": [],
   "source": [
    "4. Count the occurrences of an element in a tuple."
   ]
  },
  {
   "cell_type": "code",
   "execution_count": null,
   "id": "4dbb84f7-7a65-43c3-b06e-74b101c0de51",
   "metadata": {},
   "outputs": [],
   "source": [
    "my_tuple = (2,4,6,8,10)\n",
    "print(my_tuple)   \n",
    "count = my_tuple.count(2)  \n",
    "print(\"Occurences of 2:\",count)  \n",
    "data = (2,4,6,8,10,2)  \n",
    "print(data)  \n",
    "count = my_tuple.count(2)  \n",
    "print(\"Occurences of 2 :\",count)  "
   ]
  },
  {
   "cell_type": "code",
   "execution_count": null,
   "id": "9f979181-a2da-4abf-9a70-2ba87d783d0f",
   "metadata": {},
   "outputs": [],
   "source": [
    "5. Find the index of the first occurrence of an element in a tuple."
   ]
  },
  {
   "cell_type": "code",
   "execution_count": null,
   "id": "1aa4d490-ffd7-4862-ba87-1351d67826f6",
   "metadata": {},
   "outputs": [],
   "source": [
    "my_tuple = (1, 2, 3, 4, 5, 6, 7, 8, 9, 10)\n",
    "\n",
    "element_to_find = 5\n",
    "\n",
    "index = my_tuple.index(element_to_find)\n",
    "\n",
    "print(f\"The index of {element_to_find} is {index}\")"
   ]
  },
  {
   "cell_type": "code",
   "execution_count": null,
   "id": "279331c7-e6b1-480b-a02e-d7cb06ff6b05",
   "metadata": {},
   "outputs": [],
   "source": [
    "6. Check if an element exists in a tuple."
   ]
  },
  {
   "cell_type": "code",
   "execution_count": null,
   "id": "a2001b4f-a255-41aa-8745-423515824ce8",
   "metadata": {},
   "outputs": [],
   "source": [
    "my_tuple = (1, 2, 3, 4, 5, 6, 7, 8, 9, 10)\n",
    "\n",
    "element_to_check = 5\n",
    "\n",
    "if element_to_check in my_tuple:\n",
    "    print(f\"{element_to_check} exists in the tuple.\")\n",
    "else:\n",
    "    print(f\"{element_to_check} does not exist in the tuple.\")"
   ]
  },
  {
   "cell_type": "code",
   "execution_count": null,
   "id": "35e4ca03-1f04-4ba0-ae15-92ab081e6701",
   "metadata": {},
   "outputs": [],
   "source": [
    "7. Convert a tuple to a list."
   ]
  },
  {
   "cell_type": "code",
   "execution_count": null,
   "id": "87de6c97-8e60-462c-b7ef-f97835183ebb",
   "metadata": {},
   "outputs": [],
   "source": [
    "my_tuple = (1, 2, 3, 4, 5, 6, 7, 8, 9, 10)\n",
    "\n",
    "my_list = list(my_tuple)\n",
    "\n",
    "print(\"Tuple:\", my_tuple)\n",
    "print(\"List:\", my_list)"
   ]
  },
  {
   "cell_type": "code",
   "execution_count": null,
   "id": "ece0fed3-a7ad-4dde-9264-d897b2cb1289",
   "metadata": {},
   "outputs": [],
   "source": [
    "8. Convert a list to a tuple."
   ]
  },
  {
   "cell_type": "code",
   "execution_count": null,
   "id": "8e78cc82-67ae-43b0-b96f-f58019b9a67c",
   "metadata": {},
   "outputs": [],
   "source": [
    "my_list = [10, 20, 30, 40, 50]\n",
    "\n",
    "my_tuple = tuple(my_list)\n",
    "\n",
    "print(\"List:\", my_list)\n",
    "print(\"Tuple:\", my_tuple)"
   ]
  },
  {
   "cell_type": "code",
   "execution_count": null,
   "id": "81eb7ca4-39dc-48f8-9303-f750f46aff2f",
   "metadata": {},
   "outputs": [],
   "source": [
    "9. Unpack the elements of a tuple into variables."
   ]
  },
  {
   "cell_type": "code",
   "execution_count": null,
   "id": "0d5dfacd-6b25-43a3-b435-0d4deea1899e",
   "metadata": {},
   "outputs": [],
   "source": [
    "my_tuple = (10, 20, 30)\n",
    "\n",
    "var1, var2, var3 = my_tuple\n",
    "\n",
    "print(\"var1:\", var1)\n",
    "print(\"var2:\", var2)\n",
    "print(\"var3:\", var3)"
   ]
  },
  {
   "cell_type": "code",
   "execution_count": null,
   "id": "0d148740-2342-4ba2-aae4-3b25edc84da6",
   "metadata": {},
   "outputs": [],
   "source": [
    "10. Create a tuple of even numbers from 1 to 10."
   ]
  },
  {
   "cell_type": "code",
   "execution_count": null,
   "id": "381d5eba-1923-479e-8339-258fc5b0a334",
   "metadata": {},
   "outputs": [],
   "source": [
    "even_numbers_list = [x for x in range(2, 11, 2)] \n",
    "\n",
    "even_numbers_tuple = tuple(even_numbers_list)\n",
    "\n",
    "print(\"Tuple of even numbers from 1 to 10:\", even_numbers_tuple)"
   ]
  },
  {
   "cell_type": "code",
   "execution_count": null,
   "id": "94972bcc-90c4-43c1-a618-f0cd9aec14b1",
   "metadata": {},
   "outputs": [],
   "source": [
    "11. Create a tuple of odd numbers from 1 to 10."
   ]
  },
  {
   "cell_type": "code",
   "execution_count": null,
   "id": "c8a49874-25f8-41ce-b584-3a3d48f470e2",
   "metadata": {},
   "outputs": [],
   "source": [
    "odd_numbers_list = [x for x in range(1, 10, 2)] \n",
    "\n",
    "odd_numbers_tuple = tuple(odd_numbers_list)\n",
    "\n",
    "print(\"Tuple of odd numbers from 1 to 10:\", odd_numbers_tuple)"
   ]
  },
  {
   "cell_type": "code",
   "execution_count": null,
   "id": "01f28288-5d09-4f3f-b84e-b798aa0ca3f9",
   "metadata": {},
   "outputs": [],
   "source": [
    "12. Concatenate two tuples."
   ]
  },
  {
   "cell_type": "code",
   "execution_count": null,
   "id": "b0241f24-713c-4897-a918-5b7c54a74ab7",
   "metadata": {},
   "outputs": [],
   "source": [
    "tuple1 = (1, 2, 3)\n",
    "tuple2 = (4, 5, 6)\n",
    "\n",
    "concatenated_tuple = tuple1 + tuple2\n",
    "\n",
    "print(\"Concatenated tuple:\", concatenated_tuple)"
   ]
  },
  {
   "cell_type": "code",
   "execution_count": null,
   "id": "67b5f40d-36a9-4f5b-8a69-da73cc40fe6d",
   "metadata": {},
   "outputs": [],
   "source": [
    "13. Repeat a tuple three times."
   ]
  },
  {
   "cell_type": "code",
   "execution_count": null,
   "id": "c3c40358-ffcd-4b62-b4d9-db4433425658",
   "metadata": {},
   "outputs": [],
   "source": [
    "tuple = (1, 2, 3)\n",
    " \n",
    "repeated_tuple = tuple * 3\n",
    "\n",
    "print(\"Repeatedtuple:\", repeated_tuple)"
   ]
  },
  {
   "cell_type": "code",
   "execution_count": null,
   "id": "e1123fde-6283-462d-95a4-24f2d0e4c162",
   "metadata": {},
   "outputs": [],
   "source": [
    "14. Check if a tuple is empty."
   ]
  },
  {
   "cell_type": "code",
   "execution_count": null,
   "id": "5ac8470f-9279-4e73-b238-924892e89175",
   "metadata": {},
   "outputs": [],
   "source": [
    "empty_tuple = ()\n",
    "non_empty_tuple = (1, 2, 3)\n",
    "\n",
    "if not empty_tuple:\n",
    "    print(\"The empty_tuple is empty.\")\n",
    "else:\n",
    "    print(\"The empty_tuple is not empty.\")\n",
    "\n",
    "if not non_empty_tuple:\n",
    "    print(\"The non_empty_tuple is empty.\")\n",
    "else:\n",
    "    print(\"The non_empty_tuple is not empty.\")"
   ]
  },
  {
   "cell_type": "code",
   "execution_count": null,
   "id": "a3f741a9-0e40-49ce-a19d-1ffb7f189a5d",
   "metadata": {},
   "outputs": [],
   "source": [
    "15. Create a nested tuple."
   ]
  },
  {
   "cell_type": "code",
   "execution_count": null,
   "id": "0d77e58b-355d-4683-bcab-4d1b790b7f86",
   "metadata": {},
   "outputs": [],
   "source": [
    "nested_tuple = ((1, 2, 3), ('a', 'b', 'c'), (True, False))\n",
    "\n",
    "print(\"Nested tuple:\", nested_tuple)"
   ]
  },
  {
   "cell_type": "code",
   "execution_count": null,
   "id": "ba48d0e9-72bb-4e7c-8c53-8a0af1d3762e",
   "metadata": {},
   "outputs": [],
   "source": [
    "16. Access the first element of a nested tuple."
   ]
  },
  {
   "cell_type": "code",
   "execution_count": null,
   "id": "97f9d531-81bf-4055-9774-9471e42e8409",
   "metadata": {},
   "outputs": [],
   "source": [
    "nested_tuple = ((1, 2, 3), ('a', 'b', 'c'), (True, False))\n",
    "fst_eliment=nested_tuple[0]\n",
    "print(\"first element of Nested tuple:\", fst_eliment)"
   ]
  },
  {
   "cell_type": "code",
   "execution_count": null,
   "id": "5939830c-274d-4888-9016-98424b06c57d",
   "metadata": {},
   "outputs": [],
   "source": [
    "17. Create a tuple with a single element."
   ]
  },
  {
   "cell_type": "code",
   "execution_count": null,
   "id": "23dda7e1-9fea-4f85-a844-0361067d5a86",
   "metadata": {},
   "outputs": [],
   "source": [
    "single_element_tuple = (10,) \n",
    "\n",
    "print(\"Single element tuple:\", single_element_tuple)"
   ]
  },
  {
   "cell_type": "code",
   "execution_count": null,
   "id": "1ea31538-af44-4772-8b61-124d2ac7d2e4",
   "metadata": {},
   "outputs": [],
   "source": [
    "18. Compare two tuples."
   ]
  },
  {
   "cell_type": "code",
   "execution_count": null,
   "id": "315ba280-8372-4a6e-8db3-5426305ef8fb",
   "metadata": {},
   "outputs": [],
   "source": [
    "tuple1 = (1, 2, 3)\n",
    "tuple2 = (1, 2, 4)\n",
    "\n",
    "print(\"tuple1 == tuple2:\", tuple1 == tuple2)\n",
    "print(\"tuple1 != tuple2:\", tuple1 != tuple2) \n",
    "print(\"tuple1 < tuple2:\", tuple1 < tuple2)   \n",
    "print(\"tuple1 <= tuple2:\", tuple1 <= tuple2)  \n",
    "print(\"tuple1 > tuple2:\", tuple1 > tuple2)   \n",
    "print(\"tuple1 >= tuple2:\", tuple1 >= tuple2) "
   ]
  },
  {
   "cell_type": "code",
   "execution_count": null,
   "id": "f6016720-0479-4bc6-8a8f-5e2ba92bd06b",
   "metadata": {},
   "outputs": [],
   "source": [
    "19. Delete a tuple."
   ]
  },
  {
   "cell_type": "code",
   "execution_count": null,
   "id": "8a5993a4-077b-4ad6-923f-2227b03e758f",
   "metadata": {},
   "outputs": [],
   "source": [
    "my_tuple = (1, 2, 3, 4, 5)\n",
    "\n",
    "del my_tuple\n",
    "\n",
    "print(my_tuple)"
   ]
  },
  {
   "cell_type": "code",
   "execution_count": null,
   "id": "9b2d447c-f06a-45a6-915b-8b067de07a86",
   "metadata": {},
   "outputs": [],
   "source": [
    "20. Slice a tuple."
   ]
  },
  {
   "cell_type": "code",
   "execution_count": null,
   "id": "e8d0c33b-cd1e-4d1f-8b8c-2e04f00e3bd2",
   "metadata": {},
   "outputs": [],
   "source": [
    "my_tuple = (1, 2, 3, 4, 5, 6, 7, 8, 9, 10)\n",
    "\n",
    "sliced_tuple = my_tuple[2:6]\n",
    "\n",
    "print(\"Sliced tuple:\", sliced_tuple)"
   ]
  },
  {
   "cell_type": "code",
   "execution_count": null,
   "id": "0800639e-f64e-4496-8ae6-34884377f0c4",
   "metadata": {},
   "outputs": [],
   "source": [
    "21. Find the maximum value in a tuple."
   ]
  },
  {
   "cell_type": "code",
   "execution_count": null,
   "id": "9796c28b-76ce-42e1-a9f7-078da3926f4a",
   "metadata": {},
   "outputs": [],
   "source": [
    "my_tuple = (1, 2, 3, 4, 5, 6, 7, 8, 9, 10)\n",
    "max_value = max(my_tuple)\n",
    "\n",
    "print(\"Maximum value:\", max_value)"
   ]
  },
  {
   "cell_type": "code",
   "execution_count": null,
   "id": "f4eb6fac-23f8-4d87-a11a-c4fcd0cbf5b0",
   "metadata": {},
   "outputs": [],
   "source": [
    "22. Find the minimum value in a tuple."
   ]
  },
  {
   "cell_type": "code",
   "execution_count": null,
   "id": "9e70ff3c-7461-4148-89d2-f9165f58f98c",
   "metadata": {},
   "outputs": [],
   "source": [
    "my_tuple = (1, 2, 3, 4, 5, 6, 7, 8, 9, 10)\n",
    "min_value = min(my_tuple)\n",
    "\n",
    "print(\"Minimum value:\", min_value)"
   ]
  },
  {
   "cell_type": "code",
   "execution_count": null,
   "id": "e0d5829e-cb68-4b03-a5e7-e0fdf5c71404",
   "metadata": {},
   "outputs": [],
   "source": [
    "23. Convert a string to a tuple of characters."
   ]
  },
  {
   "cell_type": "code",
   "execution_count": null,
   "id": "63c67e3f-b711-44a8-b13a-19ee5ef3032b",
   "metadata": {},
   "outputs": [],
   "source": [
    "my_string = \"Hello, World!\"\n",
    "\n",
    "tuple_of_characters = tuple(my_string)\n",
    "\n",
    "print(\"Tuple of characters:\", tuple_of_characters)"
   ]
  },
  {
   "cell_type": "code",
   "execution_count": null,
   "id": "bd30ccdb-0f68-4eb1-9aac-256e3165f37e",
   "metadata": {},
   "outputs": [],
   "source": [
    "24. Convert a tuple of characters to a string"
   ]
  },
  {
   "cell_type": "code",
   "execution_count": null,
   "id": "cac27af6-a758-46e8-a33b-67795a5a1dc1",
   "metadata": {},
   "outputs": [],
   "source": [
    "tuple_of_characters = ('H', 'e', 'l', 'l', 'o', ' ', 'W', 'o', 'r', 'l', 'd', '!')\n",
    "\n",
    "string_from_tuple = ''.join(tuple_of_characters)\n",
    "\n",
    "print(\"String from tuple:\", string_from_tuple)"
   ]
  },
  {
   "cell_type": "code",
   "execution_count": null,
   "id": "7d53d4c2-9edc-47f3-8670-5312711ed286",
   "metadata": {},
   "outputs": [],
   "source": [
    "25. Create a tuple from multiple data types."
   ]
  },
  {
   "cell_type": "code",
   "execution_count": null,
   "id": "8d282daf-435e-4ffe-aef5-6e2aa91875ff",
   "metadata": {},
   "outputs": [],
   "source": [
    "mixed_tuple = (1, \"hello\", 3.14, True)\n",
    "\n",
    "print(mixed_tuple)"
   ]
  },
  {
   "cell_type": "code",
   "execution_count": null,
   "id": "27171b84-1ffb-4bfa-96c8-f5d4c52eaf76",
   "metadata": {},
   "outputs": [],
   "source": [
    "26. Check if two tuples are identical."
   ]
  },
  {
   "cell_type": "code",
   "execution_count": null,
   "id": "8f674efb-53de-4d72-8b7f-3bad7f4e9a01",
   "metadata": {},
   "outputs": [],
   "source": [
    "tuple1 = (1, 2, 3)\n",
    "tuple2 = (1, 2, 3)\n",
    "tuple3 = (4, 5, 6)\n",
    "\n",
    "are_identical1 = tuple1 == tuple2\n",
    "are_identical2 = tuple1 == tuple3\n",
    "\n",
    "print(\"tuple1 and tuple2 are identical:\", are_identical1)\n",
    "print(\"tuple1 and tuple3 are identical:\", are_identical2)"
   ]
  },
  {
   "cell_type": "code",
   "execution_count": null,
   "id": "04db2b55-65f5-457b-90b3-0900188bfcfb",
   "metadata": {},
   "outputs": [],
   "source": [
    "27. Sort the elements of a tuple."
   ]
  },
  {
   "cell_type": "code",
   "execution_count": null,
   "id": "0089a4a0-0d46-4b1c-b591-42e262c881b8",
   "metadata": {},
   "outputs": [],
   "source": [
    "my_tuple = (5, 2, 8, 1, 3)\n",
    "\n",
    "sorted_tuple = tuple(sorted(my_tuple))\n",
    "\n",
    "print(\"Sorted tuple:\", sorted_tuple)\n"
   ]
  },
  {
   "cell_type": "code",
   "execution_count": null,
   "id": "315b37ca-422f-472d-94b8-c19d80fa250e",
   "metadata": {},
   "outputs": [],
   "source": [
    "28. Convert a tuple of integers to a tuple of strings"
   ]
  },
  {
   "cell_type": "code",
   "execution_count": null,
   "id": "bccbb20a-7850-4934-9a1c-522a4c6cdafd",
   "metadata": {},
   "outputs": [],
   "source": [
    "tuple_of_integers = (1, 2, 3, 4, 5)\n",
    "\n",
    "tuple_of_strings = tuple(str(item) for item in tuple_of_integers)\n",
    "print(\"Tuple of strings:\", tuple_of_strings)"
   ]
  },
  {
   "cell_type": "code",
   "execution_count": null,
   "id": "84466e81-4a56-4429-acbd-83601cf13f98",
   "metadata": {},
   "outputs": [],
   "source": [
    "29. Convert a tuple of strings to a tuple of integers."
   ]
  },
  {
   "cell_type": "code",
   "execution_count": null,
   "id": "7ff05dba-59a2-49f8-9372-54e1a13cb53f",
   "metadata": {},
   "outputs": [],
   "source": [
    "tuple_of_strings = ('10', '20', '30', '40', '50')\n",
    "tuple_of_integers = tuple(int(item) for item in tuple_of_strings)\n",
    "\n",
    "print(\"Tuple of integers:\", tuple_of_integers)"
   ]
  },
  {
   "cell_type": "code",
   "execution_count": null,
   "id": "6df87cfc-ef63-49ee-9fad-4756f3fa2745",
   "metadata": {},
   "outputs": [],
   "source": [
    "30. Merge two tuples."
   ]
  },
  {
   "cell_type": "code",
   "execution_count": null,
   "id": "73a470cd-9529-488e-9d62-6c9fa74d171a",
   "metadata": {},
   "outputs": [],
   "source": [
    "tuple1 = (1, 2, 3)\n",
    "tuple2 = (4, 5, 6)\n",
    "\n",
    "merged_tuple = tuple1 + tuple2\n",
    "print(\"Merged tuple:\", merged_tuple)"
   ]
  },
  {
   "cell_type": "code",
   "execution_count": null,
   "id": "1211bb6f-1c5b-4112-8097-26295ce5cc24",
   "metadata": {},
   "outputs": [],
   "source": [
    "31. Flatten a nested tuple."
   ]
  },
  {
   "cell_type": "code",
   "execution_count": null,
   "id": "3aaafddb-cbd1-42d0-894f-f1a0b131cb8b",
   "metadata": {},
   "outputs": [],
   "source": [
    "def flatten_tuple(nested_tuple):\n",
    "    flattened = []\n",
    "    for item in nested_tuple:\n",
    "        if isinstance(item, tuple):\n",
    "            flattened.extend(flatten_tuple(item))\n",
    "        else:\n",
    "            flattened.append(item)\n",
    "    return flattened\n",
    "\n",
    "# Step 1: Create a nested tuple\n",
    "nested_tuple = ((1, 2), (3, 4, 5), (6, (7, 8)))\n",
    "\n",
    "# Step 2: Flatten the nested tuple\n",
    "flattened_tuple = tuple(flatten_tuple(nested_tuple))\n",
    "\n",
    "# Step 3: Print the flattened tuple\n",
    "print(\"Flattened tuple:\", flattened_tuple)"
   ]
  },
  {
   "cell_type": "code",
   "execution_count": null,
   "id": "43e4a48c-ecd8-4ae5-a8a4-45b683ef666f",
   "metadata": {},
   "outputs": [],
   "source": [
    "32. Create a tuple of the first 5 prime numbers."
   ]
  },
  {
   "cell_type": "code",
   "execution_count": null,
   "id": "86c440a1-4905-45e5-afac-6111ca2ace32",
   "metadata": {},
   "outputs": [],
   "source": [
    "def is_prime(num):\n",
    "    if num <= 1:\n",
    "        return False\n",
    "    for i in range(2, int(num ** 0.5) + 1):\n",
    "        if num % i == 0:\n",
    "            return False\n",
    "    return True\n",
    "\n",
    "# Generate the first 5 prime numbers\n",
    "prime_numbers_list = [num for num in range(2, 100) if is_prime(num)][:5]\n",
    "\n",
    "# Convert the list to a tuple\n",
    "prime_numbers_tuple = tuple(prime_numbers_list)\n",
    "\n",
    "# Print the tuple of prime numbers\n",
    "print(\"Tuple of the first 5 prime numbers:\", prime_numbers_tuple)"
   ]
  },
  {
   "cell_type": "code",
   "execution_count": null,
   "id": "867fb481-956f-41f6-b986-617dd6e60537",
   "metadata": {},
   "outputs": [],
   "source": [
    "33. Check if a tuple is a palindrome."
   ]
  },
  {
   "cell_type": "code",
   "execution_count": null,
   "id": "25a577d8-e5e1-4e8b-9398-95a06a391678",
   "metadata": {},
   "outputs": [],
   "source": [
    "def is_palindrome(tup):\n",
    "    return tup == tup[::-1]\n",
    "\n",
    "# Create tuples for testing\n",
    "palindrome_tuple = (1, 2, 3, 2, 1)\n",
    "non_palindrome_tuple = (1, 2, 3, 4, 5)\n",
    "\n",
    "is_palindrome1 = is_palindrome(palindrome_tuple)\n",
    "is_palindrome2 = is_palindrome(non_palindrome_tuple)\n",
    "\n",
    "print(\"palindrome_tuple is a palindrome:\", is_palindrome1)\n",
    "print(\"non_palindrome_tuple is a palindrome:\", is_palindrome2)"
   ]
  },
  {
   "cell_type": "code",
   "execution_count": null,
   "id": "8eab0262-6fb2-4f59-9dde-55ae7b6f0c76",
   "metadata": {},
   "outputs": [],
   "source": [
    "34. Create a tuple of squares of numbers from 1 to 5."
   ]
  },
  {
   "cell_type": "code",
   "execution_count": null,
   "id": "272c657e-a2c9-4680-9559-43e7f6868b7f",
   "metadata": {},
   "outputs": [],
   "source": [
    "squares_tuple = tuple(x ** 2 for x in range(1, 6))\n",
    "\n",
    "print(\"Tuple of squares:\", squares_tuple)"
   ]
  },
  {
   "cell_type": "code",
   "execution_count": null,
   "id": "7c618050-d320-407f-9ba6-dea97bd30b61",
   "metadata": {},
   "outputs": [],
   "source": [
    "35. Filter out all even numbers from a tuple."
   ]
  },
  {
   "cell_type": "code",
   "execution_count": null,
   "id": "58684055-14e7-47e0-bfc3-33e451497cea",
   "metadata": {},
   "outputs": [],
   "source": [
    "original_tuple = (1, 2, 3, 4, 5, 6, 7, 8, 9, 10)\n",
    "\n",
    "filtered_tuple = tuple(num for num in original_tuple if num % 2 != 0)\n",
    "\n",
    "print(\"Filtered tuple:\", filtered_tuple)"
   ]
  },
  {
   "cell_type": "code",
   "execution_count": null,
   "id": "34d969f4-9b73-43c8-908d-ae24314d4b25",
   "metadata": {},
   "outputs": [],
   "source": [
    "36. Multiply all elements in a tuple by 2."
   ]
  },
  {
   "cell_type": "code",
   "execution_count": null,
   "id": "d9776576-c7f7-4c68-8fd4-734313825212",
   "metadata": {},
   "outputs": [],
   "source": [
    "original_tuple = (1, 2, 3, 4, 5)\n",
    "\n",
    "doubled_tuple = tuple(num * 2 for num in original_tuple)\n",
    "\n",
    "print(\"Doubled tuple:\", doubled_tuple)"
   ]
  },
  {
   "cell_type": "code",
   "execution_count": null,
   "id": "8332fb55-ad98-4bb9-ae68-920727727403",
   "metadata": {},
   "outputs": [],
   "source": [
    "37. Create a tuple of random numbers"
   ]
  },
  {
   "cell_type": "code",
   "execution_count": null,
   "id": "987e5fe4-d922-42c8-a859-68c09d149105",
   "metadata": {},
   "outputs": [],
   "source": [
    "import random\n",
    "\n",
    "random_tuple = tuple(random.randint(1, 100) for _ in range(10))\n",
    "\n",
    "print(\"Random tuple:\", random_tuple)"
   ]
  },
  {
   "cell_type": "code",
   "execution_count": null,
   "id": "0ab32a14-628a-4543-ba39-4759e658e3fb",
   "metadata": {},
   "outputs": [],
   "source": [
    "38. Check if a tuple is sorted."
   ]
  },
  {
   "cell_type": "code",
   "execution_count": null,
   "id": "3986ae3b-c87d-479c-9c16-321decf724aa",
   "metadata": {},
   "outputs": [],
   "source": [
    "def is_sorted(tup):\n",
    "    for i in range(len(tup) - 1):\n",
    "        if tup[i] > tup[i + 1]:\n",
    "            return False\n",
    "    return True\n",
    "\n",
    "# Create tuples for testing\n",
    "sorted_tuple = (1, 2, 3, 4, 5)\n",
    "unsorted_tuple = (5, 3, 1, 4, 2)\n",
    "\n",
    "# Check if the tuples are sorted\n",
    "is_sorted1 = is_sorted(sorted_tuple)\n",
    "is_sorted2 = is_sorted(unsorted_tuple)\n",
    "\n",
    "# Print the results\n",
    "print(\"sorted_tuple is sorted:\", is_sorted1)\n",
    "print(\"unsorted_tuple is sorted:\", is_sorted2)"
   ]
  },
  {
   "cell_type": "code",
   "execution_count": null,
   "id": "0aefde81-43b2-4951-9a9f-b39962634d0c",
   "metadata": {},
   "outputs": [],
   "source": [
    "39. Rotate a tuple to the left by `n` positions."
   ]
  },
  {
   "cell_type": "code",
   "execution_count": null,
   "id": "a00d7a11-ab1f-4cf3-8a3c-2030fe9078aa",
   "metadata": {},
   "outputs": [],
   "source": [
    "def rotate_tuple_left(tup, n):\n",
    "    n = n % len(tup)  \n",
    "    rotated_tuple = tup[n:] + tup[:n] \n",
    "    return rotated_tuple\n",
    "\n",
    "my_tuple = (1, 2, 3, 4, 5)\n",
    "n_positions = 2\n",
    "result = rotate_tuple_left(my_tuple, n_positions)\n",
    "print(result)"
   ]
  },
  {
   "cell_type": "code",
   "execution_count": null,
   "id": "fe8185a0-b583-4547-b1d3-10fc73f4f2ef",
   "metadata": {},
   "outputs": [],
   "source": [
    "40. Rotate a tuple to the right by `n` positions."
   ]
  },
  {
   "cell_type": "code",
   "execution_count": null,
   "id": "932b0f1a-35e4-4465-b079-a69d93404756",
   "metadata": {},
   "outputs": [],
   "source": [
    "def rotate_tuple_right(tup, n):\n",
    "    n = n % len(tup)  # Ensure n is within the range of tuple length\n",
    "    rotated_tuple = tup[-n:] + tup[:-n]  # Rotate the tuple\n",
    "    return rotated_tuple\n",
    "\n",
    "# Example tuple\n",
    "my_tuple = (1, 2, 3, 4, 5)\n",
    "n_positions = 2\n",
    "result = rotate_tuple_right(my_tuple, n_positions)\n",
    "print(result)"
   ]
  },
  {
   "cell_type": "code",
   "execution_count": null,
   "id": "3e850b47-99f5-4624-b6a5-172f6b1410c1",
   "metadata": {},
   "outputs": [],
   "source": [
    "41. Create a tuple of the first 5 Fibonacci numbers."
   ]
  },
  {
   "cell_type": "code",
   "execution_count": null,
   "id": "32bcb1e3-9fe1-4347-92d5-fcba401e1de8",
   "metadata": {},
   "outputs": [],
   "source": [
    "def generate_fibonacci(n):\n",
    "    fibonacci = [0, 1]  \n",
    "    while len(fibonacci) < n:  \n",
    "        next_number = fibonacci[-1] + fibonacci[-2] \n",
    "        fibonacci.append(next_number)  \n",
    "    return tuple(fibonacci)  \n",
    "\n",
    "fibonacci_tuple = generate_fibonacci(5)\n",
    "\n",
    "print(fibonacci_tuple)"
   ]
  },
  {
   "cell_type": "code",
   "execution_count": null,
   "id": "2b1c98b5-15a1-4f83-a86f-523fa0b4819d",
   "metadata": {},
   "outputs": [],
   "source": [
    "42. Create a tuple from user input."
   ]
  },
  {
   "cell_type": "code",
   "execution_count": null,
   "id": "d9ae3c3b-c70a-4542-8cd8-bf237e707072",
   "metadata": {},
   "outputs": [],
   "source": [
    "input_str = input(\"Enter elements separated by commas: \")\n",
    "\n",
    "input_list = input_str.split(',')\n",
    "\n",
    "user_tuple = tuple(input_list)\n",
    "\n",
    "print(\"User input tuple:\", user_tuple)"
   ]
  },
  {
   "cell_type": "code",
   "execution_count": null,
   "id": "452c1f42-893e-4d7d-906c-b6cc38a19fc0",
   "metadata": {},
   "outputs": [],
   "source": [
    "43. Swap two elements in a tuple."
   ]
  },
  {
   "cell_type": "code",
   "execution_count": null,
   "id": "cf2e359e-bf82-43ae-9681-f2a2a558725b",
   "metadata": {},
   "outputs": [],
   "source": [
    "t = (1, 2, 3)\n",
    "ls = list(t)\n",
    "\n",
    "ls[1], ls[2] = ls[2], ls[1]\n",
    "\n",
    "new_t = tuple(ls)\n",
    "print(new_t)"
   ]
  },
  {
   "cell_type": "code",
   "execution_count": null,
   "id": "a60182ed-3275-487f-a37d-c6e068100f37",
   "metadata": {},
   "outputs": [],
   "source": [
    "44. Reverse the elements of a tuple."
   ]
  },
  {
   "cell_type": "code",
   "execution_count": null,
   "id": "c6e523e6-6ae3-4517-8f4c-227fc5add713",
   "metadata": {},
   "outputs": [],
   "source": [
    "my_tuple = (1, 2, 3, 4, 5)\n",
    "\n",
    "reversed_tuple = my_tuple[::-1]  #using slicing\n",
    "\n",
    "print(\"Reversed tuple:\", reversed_tuple)"
   ]
  },
  {
   "cell_type": "code",
   "execution_count": null,
   "id": "c2dd577d-d8df-4ab1-988b-38131ebe99bb",
   "metadata": {},
   "outputs": [],
   "source": [
    "45. Create a tuple of the first `n` powers of 2."
   ]
  },
  {
   "cell_type": "code",
   "execution_count": null,
   "id": "2829f930-5a28-48e7-aa95-6c3c385f1e95",
   "metadata": {},
   "outputs": [],
   "source": [
    "n = 5\n",
    "\n",
    "powers_of_2_tuple = tuple(2 ** i for i in range(n))\n",
    "\n",
    "# Print the tuple of powers of 2\n",
    "print(\"Tuple of the first\", n, \"powers of 2:\", powers_of_2_tuple)"
   ]
  },
  {
   "cell_type": "code",
   "execution_count": null,
   "id": "b22aa4a7-271b-43d9-b415-eeb517f2bdb2",
   "metadata": {},
   "outputs": [],
   "source": [
    "46. Find the longest string in a tuple of strings."
   ]
  },
  {
   "cell_type": "code",
   "execution_count": null,
   "id": "fcc8af13-0b18-4e0b-81f1-f12a5b3c07fc",
   "metadata": {},
   "outputs": [],
   "source": [
    "string_tuple = (\"apple\", \"banana\", \"grape\", \"kiwi\", \"watermelon\")\n",
    "\n",
    "longest_string = max(string_tuple, key=len)\n",
    "\n",
    "print(\"Longest string:\", longest_string)"
   ]
  },
  {
   "cell_type": "code",
   "execution_count": null,
   "id": "a07b703e-962d-4ee1-b8b7-8bfde7230e76",
   "metadata": {},
   "outputs": [],
   "source": [
    "47. Find the shortest string in a tuple of strings."
   ]
  },
  {
   "cell_type": "code",
   "execution_count": null,
   "id": "92fce0fa-8c05-4151-a8c1-58e841023cfb",
   "metadata": {},
   "outputs": [],
   "source": [
    "string_tuple = (\"apple\", \"banana\", \"grape\", \"kiwi\", \"watermelon\")\n",
    "\n",
    "shortest_string = min(string_tuple, key=len)\n",
    "\n",
    "print(\"Shortest string:\", shortest_string)"
   ]
  },
  {
   "cell_type": "code",
   "execution_count": null,
   "id": "c5fc7937-7b02-4cce-850c-3a332a62965c",
   "metadata": {},
   "outputs": [],
   "source": [
    "48. Create a tuple of the first `n` triangular numbers."
   ]
  },
  {
   "cell_type": "code",
   "execution_count": null,
   "id": "e62ca25b-80eb-4bc2-a85a-0198eb47daf2",
   "metadata": {},
   "outputs": [],
   "source": [
    "n = 5\n",
    "\n",
    "triangular_numbers_tuple = tuple((i * (i + 1)) // 2 for i in range(1, n + 1))\n",
    "\n",
    "print(\"Tuple of the first\", n, \"triangular numbers:\", triangular_numbers_tuple)"
   ]
  },
  {
   "cell_type": "code",
   "execution_count": null,
   "id": "dee54c3d-b97f-40e3-a220-88840c58dbf5",
   "metadata": {},
   "outputs": [],
   "source": [
    "49. Check if a tuple contains another tuple as a subsequence."
   ]
  },
  {
   "cell_type": "code",
   "execution_count": null,
   "id": "672ecf61-b742-48b0-83d1-66d2239061dd",
   "metadata": {},
   "outputs": [],
   "source": [
    "tup1 = (10, 4, 5, 6)\n",
    "tup2 = (5, 10)\n",
    "x=[j for i in tup1 for j in tup2]\n",
    "print([\"yes\" if x else \"no\"])"
   ]
  },
  {
   "cell_type": "code",
   "execution_count": null,
   "id": "9964e5aa-2664-48a0-adfb-adb4c7fd5c6f",
   "metadata": {},
   "outputs": [],
   "source": [
    "50. Create a tuple of alternating 1s and 0s of length `n`."
   ]
  },
  {
   "cell_type": "code",
   "execution_count": null,
   "id": "80d712b7-df15-47ac-a984-0bc442ebf1b0",
   "metadata": {},
   "outputs": [],
   "source": [
    "n = 10\n",
    "alternating_tuple = tuple(i % 2 for i in range(n))\n",
    "\n",
    "print(\"Tuple of alternating 1s and 0s:\", alternating_tuple)"
   ]
  },
  {
   "cell_type": "code",
   "execution_count": null,
   "id": "cb19760e-fda9-4a17-8c04-6de0ce04db21",
   "metadata": {},
   "outputs": [],
   "source": [
    "Set Based Practice Problem :"
   ]
  },
  {
   "cell_type": "code",
   "execution_count": null,
   "id": "fd27ceee-0825-4d20-addc-f63368c43387",
   "metadata": {},
   "outputs": [],
   "source": [
    "1. Create a set with integers from 1 to 5."
   ]
  },
  {
   "cell_type": "code",
   "execution_count": null,
   "id": "e2cb1587-e210-432b-8cd0-48664c7cb31f",
   "metadata": {},
   "outputs": [],
   "source": [
    "my_set = set()\n",
    "\n",
    "my_set.add(1)\n",
    "my_set.add(2)\n",
    "my_set.add(3)\n",
    "my_set.add(4)\n",
    "my_set.add(5)\n",
    "\n",
    "print(my_set)"
   ]
  },
  {
   "cell_type": "code",
   "execution_count": null,
   "id": "a11209bb-46e3-4152-aae0-834a6169eb4b",
   "metadata": {},
   "outputs": [],
   "source": [
    "2. Add an element to a set."
   ]
  },
  {
   "cell_type": "code",
   "execution_count": null,
   "id": "c6dcb1ff-f7e0-4b1e-8d9b-bcf3ec0e7fb3",
   "metadata": {},
   "outputs": [],
   "source": [
    "my_set = {1, 2, 3, 4, 5}\n",
    "\n",
    "element_to_add = 6\n",
    "my_set.add(element_to_add)\n",
    "\n",
    "print(\"Set after adding element:\", my_set)"
   ]
  },
  {
   "cell_type": "code",
   "execution_count": null,
   "id": "caaf68c9-4427-4303-8f30-30bd67f10098",
   "metadata": {},
   "outputs": [],
   "source": [
    "3. Remove an element from a set."
   ]
  },
  {
   "cell_type": "code",
   "execution_count": null,
   "id": "afdb3f9e-f65c-4834-a2e5-26f1aef9de88",
   "metadata": {},
   "outputs": [],
   "source": [
    "my_set = {1, 2, 3, 4, 5}\n",
    "element_to_remove = 3\n",
    "my_set.remove(element_to_remove)\n",
    "print(\"Set after removing\", element_to_remove, \":\", my_set)"
   ]
  },
  {
   "cell_type": "code",
   "execution_count": null,
   "id": "b3f33fa4-4c15-4c78-9d0d-5a6dbcaf2438",
   "metadata": {},
   "outputs": [],
   "source": [
    "4. Check if an element exists in a set."
   ]
  },
  {
   "cell_type": "code",
   "execution_count": null,
   "id": "a488eced-960e-4225-bd3e-ad82683fd6d8",
   "metadata": {},
   "outputs": [],
   "source": [
    "my_set = {1, 3, 5, 7, 9}\n",
    "\n",
    "element_to_check = 4\n",
    "\n",
    "if element_to_check in my_set:\n",
    "    print(f\"{element_to_check} exists in the set.\")\n",
    "else:\n",
    "    print(f\"{element_to_check} does not exist in the set.\")"
   ]
  },
  {
   "cell_type": "code",
   "execution_count": null,
   "id": "1dfb9d0f-1280-4e3f-8794-4d3787d48630",
   "metadata": {},
   "outputs": [],
   "source": [
    "5. Find the length of a set without using the `len()` function."
   ]
  },
  {
   "cell_type": "code",
   "execution_count": null,
   "id": "d23e4c45-d3a5-4ab6-889e-6e6e1f0c5191",
   "metadata": {},
   "outputs": [],
   "source": [
    "my_set = {1, 2, 3, 4, 5}\n",
    "\n",
    "count = 0\n",
    "\n",
    "for _ in my_set:\n",
    "\n",
    "    count += 1\n",
    "print(\"Length of the set:\", count)"
   ]
  },
  {
   "cell_type": "code",
   "execution_count": null,
   "id": "a3fad724-5d7b-4af5-8d47-8bcbb5166a86",
   "metadata": {},
   "outputs": [],
   "source": [
    "6. Clear all elements from a set."
   ]
  },
  {
   "cell_type": "code",
   "execution_count": null,
   "id": "d0215dc7-38d6-460c-b884-3f579af69a3c",
   "metadata": {},
   "outputs": [],
   "source": [
    "my_set = {1, 2, 3, 4, 5}\n",
    "my_set.clear()\n",
    "print(\"Set after clearing:\", my_set)"
   ]
  },
  {
   "cell_type": "code",
   "execution_count": null,
   "id": "53c04f5a-c796-428b-a4dd-a542131eb3c5",
   "metadata": {},
   "outputs": [],
   "source": [
    "7. Create a set of even numbers from 1 to 10."
   ]
  },
  {
   "cell_type": "code",
   "execution_count": null,
   "id": "4a7f4d6e-4ec2-4e8e-9ec0-6e05171bd7f0",
   "metadata": {},
   "outputs": [],
   "source": [
    "even_numbers_set = set()\n",
    "\n",
    "for num in range(1, 11):\n",
    "\n",
    "    if num % 2 == 0:\n",
    "\n",
    "        even_numbers_set.add(num)\n",
    "        \n",
    "print(even_numbers_set)"
   ]
  },
  {
   "cell_type": "code",
   "execution_count": null,
   "id": "3bfc0dad-43ae-4624-8d3e-45b71aff1058",
   "metadata": {},
   "outputs": [],
   "source": [
    "8. Create a set of odd numbers from 1 to 10."
   ]
  },
  {
   "cell_type": "code",
   "execution_count": null,
   "id": "77400658-c7f3-4f69-9e3d-e094b0df7154",
   "metadata": {},
   "outputs": [],
   "source": [
    "odd_numbers_set = set()\n",
    "\n",
    "for num in range(1, 10):\n",
    "\n",
    "    if num % 2 != 0:\n",
    "\n",
    "        odd_numbers_set.add(num)\n",
    "        \n",
    "print(odd_numbers_set)"
   ]
  },
  {
   "cell_type": "code",
   "execution_count": null,
   "id": "d582ef40-8286-4a41-a314-0add0aba1153",
   "metadata": {},
   "outputs": [],
   "source": [
    "9. Find the union of two sets."
   ]
  },
  {
   "cell_type": "code",
   "execution_count": null,
   "id": "cc8e2ad8-cb19-427b-ba47-4744640ad33e",
   "metadata": {},
   "outputs": [],
   "source": [
    "set1 = {1, 2, 3, 4, 5}\n",
    "set2 = {4, 5, 6, 7, 8}\n",
    "union_result = set1.union(set2)\n",
    "print(\"Union of Set 1 and Set 2:\", union_result)"
   ]
  },
  {
   "cell_type": "code",
   "execution_count": null,
   "id": "5bb24a78-9ffe-4a29-9d2d-fd51564089e7",
   "metadata": {},
   "outputs": [],
   "source": [
    "10. Find the intersection of two sets."
   ]
  },
  {
   "cell_type": "code",
   "execution_count": null,
   "id": "c585c8ac-2633-46df-8035-4e7563b05b99",
   "metadata": {},
   "outputs": [],
   "source": [
    "set1 = {1, 2, 3, 4, 5}\n",
    "set2 = {4, 5, 6, 7, 8}\n",
    "intersection_result = set1.intersection(set2)\n",
    "print(\"intersection of Set 1 and Set 2:\", intersection_result)"
   ]
  },
  {
   "cell_type": "code",
   "execution_count": null,
   "id": "ef294ca4-9577-4c23-84d7-7e9ea64a3f7a",
   "metadata": {},
   "outputs": [],
   "source": [
    "11. Find the difference between two sets."
   ]
  },
  {
   "cell_type": "code",
   "execution_count": null,
   "id": "bfeb9867-13ad-42f9-996f-58b70b24c6f6",
   "metadata": {},
   "outputs": [],
   "source": [
    "set1 = {1, 2, 3, 4, 5}\n",
    "set2 = {4, 5, 6, 7, 8}\n",
    "difference_result = set1.difference(set2)\n",
    "print(\"difference of Set 1 and Set 2:\", difference_result)"
   ]
  },
  {
   "cell_type": "code",
   "execution_count": null,
   "id": "72bf64c5-eaac-4805-b1d1-2d30ee78b112",
   "metadata": {},
   "outputs": [],
   "source": [
    "12. Check if a set is a subset of another set."
   ]
  },
  {
   "cell_type": "code",
   "execution_count": null,
   "id": "03755527-7104-4d83-9ffa-5293ac050ef2",
   "metadata": {},
   "outputs": [],
   "source": [
    "set1 = {1, 2, 3}\n",
    "set2 = {1, 2, 3, 4, 5}\n",
    "\n",
    "is_subset = set1.issubset(set2)\n",
    "\n",
    "print(\"Is set1 a subset of set2:\", is_subset)"
   ]
  },
  {
   "cell_type": "code",
   "execution_count": null,
   "id": "a4400278-6b68-4ad6-a58d-a7debb82cae0",
   "metadata": {},
   "outputs": [],
   "source": [
    "13. Check if a set is a superset of another set."
   ]
  },
  {
   "cell_type": "code",
   "execution_count": null,
   "id": "3ba59523-0f2c-4286-bdaa-4be5bd39f80b",
   "metadata": {},
   "outputs": [],
   "source": [
    "set1 = {1, 2, 3, 4, 5, 6}\n",
    "set2 = {3, 4}\n",
    "\n",
    "is_superset = set1.issuperset(set2)\n",
    "\n",
    "if is_superset:\n",
    "    print(\"set1 is a superset of set2\")\n",
    "else:\n",
    "    print(\"set1 is not a superset of set2\")"
   ]
  },
  {
   "cell_type": "code",
   "execution_count": null,
   "id": "4df551ea-2380-4097-a333-cf1564a6d179",
   "metadata": {},
   "outputs": [],
   "source": [
    "14. Create a set from a list."
   ]
  },
  {
   "cell_type": "code",
   "execution_count": null,
   "id": "934092a2-90be-4883-87cb-dea0093de3e0",
   "metadata": {},
   "outputs": [],
   "source": [
    "my_list = [2, 4, 1, 4, 3, 2, 5]\n",
    "my_set = set(my_list)\n",
    "print(\"Set from List:\", my_set)"
   ]
  },
  {
   "cell_type": "code",
   "execution_count": null,
   "id": "cdab9b7b-845f-4e66-815a-eaad8f820253",
   "metadata": {},
   "outputs": [],
   "source": [
    "15. Convert a set to a list."
   ]
  },
  {
   "cell_type": "code",
   "execution_count": null,
   "id": "70a29450-f204-4af2-9801-d83d1c01bbcf",
   "metadata": {},
   "outputs": [],
   "source": [
    "my_set = {1, 2, 3, 4, 5, 6}\n",
    "my_list = list(my_set)\n",
    "print(my_list)"
   ]
  },
  {
   "cell_type": "code",
   "execution_count": null,
   "id": "b2318383-2c18-4aaf-8855-78396e926ab1",
   "metadata": {},
   "outputs": [],
   "source": [
    "16. Remove a random element from a set."
   ]
  },
  {
   "cell_type": "code",
   "execution_count": null,
   "id": "0f93bf14-38f5-4d86-b6b0-dda0cb64fbef",
   "metadata": {},
   "outputs": [],
   "source": [
    "import random  # Import the random module\n",
    "\n",
    "my_set = {1, 2, 3, 4, 5}\n",
    "\n",
    "print(\"Original set:\", my_set)\n",
    "\n",
    "random_element = random.choice(list(my_set))\n",
    "\n",
    "my_set.remove(random_element)\n",
    "\n",
    "print(\"Updated set after removing\", random_element, \":\", my_set)"
   ]
  },
  {
   "cell_type": "code",
   "execution_count": null,
   "id": "9bfccbab-00b7-440d-b333-511be1ab9c14",
   "metadata": {},
   "outputs": [],
   "source": [
    "17. Pop an element from a set."
   ]
  },
  {
   "cell_type": "code",
   "execution_count": null,
   "id": "5091be1a-252e-468f-a09d-f533de2fe015",
   "metadata": {},
   "outputs": [],
   "source": [
    "my_set = {1, 2, 3, 4, 5}\n",
    "popped_element = my_set.pop()\n",
    "print(\"Popped element:\", popped_element)"
   ]
  },
  {
   "cell_type": "code",
   "execution_count": null,
   "id": "89ca8556-04b8-4f20-9a44-8044c8730c84",
   "metadata": {},
   "outputs": [],
   "source": [
    "18. Check if two sets have no elements in common."
   ]
  },
  {
   "cell_type": "code",
   "execution_count": null,
   "id": "b1700c00-a683-47d0-82c5-748b7181b78a",
   "metadata": {},
   "outputs": [],
   "source": [
    "set1 = {1, 2, 3, 4, 5}\n",
    "set2 = {4, 5, 6, 7, 8}\n",
    "intersection_result = set1.intersection(set2)\n",
    "if not common_elements:\n",
    "    print(\"The two sets have no elements in common.\")\n",
    "else:\n",
    "    print(\"The two sets have common elements:\", common_elements)"
   ]
  },
  {
   "cell_type": "code",
   "execution_count": null,
   "id": "d69bf081-e724-410a-b17f-5a392198bb51",
   "metadata": {},
   "outputs": [],
   "source": [
    "19. Find the symmetric difference between two sets."
   ]
  },
  {
   "cell_type": "code",
   "execution_count": null,
   "id": "206ae694-fe3e-403b-9d88-433c97154f15",
   "metadata": {},
   "outputs": [],
   "source": [
    "set1 = {1, 2, 3, 4, 5}\n",
    "set2 = {4, 5, 6, 7, 8}\n",
    "symmetric_difference = set1 ^ set2\n",
    "\n",
    "print(\"Symmetric Difference:\", symmetric_difference)"
   ]
  },
  {
   "cell_type": "code",
   "execution_count": null,
   "id": "c2c615ba-f77d-4726-99f6-d99dab13bf9b",
   "metadata": {},
   "outputs": [],
   "source": [
    "20. Update a set with elements from another set."
   ]
  },
  {
   "cell_type": "code",
   "execution_count": null,
   "id": "bd84c9db-c32f-4303-aa1c-f1136972ffa6",
   "metadata": {},
   "outputs": [],
   "source": [
    "set1 = {1, 2, 3}\n",
    "set2 = {3, 4, 5}\n",
    "\n",
    "set1.update(set2)\n",
    "print(\"Updated Set 1:\", set1)"
   ]
  },
  {
   "cell_type": "code",
   "execution_count": null,
   "id": "e977da0b-eae0-4956-beec-2393cf76e106",
   "metadata": {},
   "outputs": [],
   "source": [
    "21. Create a set of the first 5 prime numbers."
   ]
  },
  {
   "cell_type": "code",
   "execution_count": null,
   "id": "690d52ca-945d-4622-8f3b-03188dbbfcc9",
   "metadata": {},
   "outputs": [],
   "source": [
    "def is_prime(num):\n",
    "    if num <= 1:\n",
    "        return False\n",
    "    for i in range(2, int(num ** 0.5) + 1):\n",
    "        if num % i == 0:\n",
    "            return False\n",
    "    return True\n",
    "\n",
    "prime_set = set()\n",
    "\n",
    "num = 2\n",
    "\n",
    "while len(prime_set) < 5:\n",
    "    if is_prime(num):\n",
    "        \n",
    "        prime_set.add(num)\n",
    "    num += 1\n",
    "    print(\"Set of the first 5 prime numbers:\", prime_set)"
   ]
  },
  {
   "cell_type": "code",
   "execution_count": null,
   "id": "7c5f42fa-1fff-4ead-8022-2cda4c08cdf6",
   "metadata": {},
   "outputs": [],
   "source": [
    "22. Check if two sets are identical."
   ]
  },
  {
   "cell_type": "code",
   "execution_count": null,
   "id": "bb3b0d39-c32c-4641-b95e-41fd5099fb3b",
   "metadata": {},
   "outputs": [],
   "source": [
    "set1 = {1, 2, 3, 4, 5}\n",
    "set2 = {3, 1, 5, 2, 4} \n",
    "\n",
    "if set1 == set2:\n",
    "    print(\"The sets are identical.\")\n",
    "else:\n",
    "    print(\"The sets are not identical.\")"
   ]
  },
  {
   "cell_type": "code",
   "execution_count": null,
   "id": "a46a5bdb-6e81-44ef-ae4b-b57c4f0aba02",
   "metadata": {},
   "outputs": [],
   "source": [
    "23. Create a frozen set."
   ]
  },
  {
   "cell_type": "code",
   "execution_count": null,
   "id": "d390af72-dfa2-40fe-99c1-72124a36543c",
   "metadata": {},
   "outputs": [],
   "source": [
    "elements = [1, 2, 3, 4, 5]\n",
    "\n",
    "my_frozen_set = frozenset(elements)\n",
    "\n",
    "print(\"Frozen Set:\", my_frozen_set)"
   ]
  },
  {
   "cell_type": "code",
   "execution_count": null,
   "id": "b3c7840c-63fb-495f-aeb2-28d49ae1b685",
   "metadata": {},
   "outputs": [],
   "source": [
    "24. Check if a set is disjoint with another set."
   ]
  },
  {
   "cell_type": "code",
   "execution_count": null,
   "id": "cf96e29e-e28c-4263-a011-e54c776693e7",
   "metadata": {},
   "outputs": [],
   "source": [
    "set1 = {1, 2, 3, 4}\n",
    "set2 = {5, 6, 7, 8}\n",
    "disjoint_status = set1.isdisjoint(set2)\n",
    "\n",
    "print(\"Are the sets disjoint?\", disjoint_status)"
   ]
  },
  {
   "cell_type": "code",
   "execution_count": null,
   "id": "4eadba53-ee88-4e65-8f7c-1c35d8160781",
   "metadata": {},
   "outputs": [],
   "source": [
    "25. Create a set of squares of numbers from 1 to 5."
   ]
  },
  {
   "cell_type": "code",
   "execution_count": null,
   "id": "b52619d1-44f0-4268-85db-5bbe72dc34fb",
   "metadata": {},
   "outputs": [],
   "source": [
    "squares_set = set()\n",
    "\n",
    "for num in range(1, 6):\n",
    "    \n",
    "    square = num ** 2\n",
    "\n",
    "    squares_set.add(square)\n",
    "print(squares_set)"
   ]
  },
  {
   "cell_type": "code",
   "execution_count": null,
   "id": "9e9287f7-f7d6-4898-8cf0-1623c9abb50b",
   "metadata": {},
   "outputs": [],
   "source": [
    "26. Filter out all even numbers from a set."
   ]
  },
  {
   "cell_type": "code",
   "execution_count": null,
   "id": "fc3d940a-895f-4a94-a670-1ee852740a18",
   "metadata": {},
   "outputs": [],
   "source": [
    "original_set = {1, 2, 3, 4, 5}\n",
    "\n",
    "even_numbers_set = set()\n",
    "\n",
    "for num in original_set:\n",
    "    \n",
    "    if num % 2 == 0:\n",
    "       \n",
    "        even_numbers_set.add(num)\n",
    "        \n",
    "print(\"Original Set:\", original_set)\n",
    "print(\"Even Numbers Set:\", even_numbers_set)"
   ]
  },
  {
   "cell_type": "code",
   "execution_count": null,
   "id": "2cf35759-6d28-4bad-bfd0-0e27c5e9810c",
   "metadata": {},
   "outputs": [],
   "source": [
    "27. Multiply all elements in a set by 2."
   ]
  },
  {
   "cell_type": "code",
   "execution_count": null,
   "id": "9166ac0e-5f5b-4fed-bfbb-d28f8e3629ce",
   "metadata": {},
   "outputs": [],
   "source": [
    "original_set = {1, 2, 3, 4, 5}\n",
    "\n",
    "multiplied_set = set()\n",
    "\n",
    "for num in original_set:\n",
    "\n",
    "    multiplied_num = num * 2\n",
    "\n",
    "    multiplied_set.add(multiplied_num)\n",
    "\n",
    "print(\"Original Set:\", original_set)\n",
    "\n",
    "print(\"Multiplied Set:\", multiplied_set)"
   ]
  },
  {
   "cell_type": "code",
   "execution_count": null,
   "id": "3de21492-8f35-4d0d-8c51-e392deb682a4",
   "metadata": {},
   "outputs": [],
   "source": [
    "28. Create a set of random numbers."
   ]
  },
  {
   "cell_type": "code",
   "execution_count": null,
   "id": "71cf104d-f29c-4ac1-8cf0-8e69b6cba1af",
   "metadata": {},
   "outputs": [],
   "source": [
    "import random\n",
    "\n",
    "num_random_numbers = 5\n",
    "\n",
    "random_number_set = set()\n",
    "\n",
    "for _ in range(num_random_numbers):\n",
    " \n",
    "    random_num = random.randint(1, 100) \n",
    "   \n",
    "    random_number_set.add(random_num)\n",
    "\n",
    "print(\"Generated set of random numbers:\", random_number_set)"
   ]
  },
  {
   "cell_type": "code",
   "execution_count": null,
   "id": "8e7e2398-ea65-4218-8204-997fb9f9b01f",
   "metadata": {},
   "outputs": [],
   "source": [
    "29. Check if a set is empty."
   ]
  },
  {
   "cell_type": "code",
   "execution_count": null,
   "id": "9c61800e-11df-4416-87ad-eb254526a956",
   "metadata": {},
   "outputs": [],
   "source": [
    "my_set = set()\n",
    "\n",
    "if not my_set:\n",
    "    print(\"The set is empty.\")\n",
    "else:\n",
    "    print(\"The set is not empty.\")"
   ]
  },
  {
   "cell_type": "code",
   "execution_count": null,
   "id": "48cc4a24-ec34-4e32-be77-57e4ba69df08",
   "metadata": {},
   "outputs": [],
   "source": [
    "30. Create a nested set (hint: use frozenset)."
   ]
  },
  {
   "cell_type": "code",
   "execution_count": null,
   "id": "374761c3-9105-482d-b790-5b3c3fdfb5dc",
   "metadata": {},
   "outputs": [],
   "source": [
    "set1 = {1, 2, 3, 4, 5}\n",
    "set2 = {6, 7, 8, 9, 10}\n",
    "\n",
    "frozen_set1 = frozenset(set1)\n",
    "frozen_set2 = frozenset(set2)\n",
    "\n",
    "nested_set = {frozen_set1, frozen_set2}\n",
    "\n",
    "print(\"Nested Set:\", nested_set)"
   ]
  },
  {
   "cell_type": "code",
   "execution_count": null,
   "id": "764dfc92-a0e5-46c9-916e-4987da699eff",
   "metadata": {},
   "outputs": [],
   "source": [
    "31. Remove an element from a set using the discard method."
   ]
  },
  {
   "cell_type": "code",
   "execution_count": null,
   "id": "9e8c27ab-9304-4377-a774-90e0c8ae93be",
   "metadata": {},
   "outputs": [],
   "source": [
    "my_set = {1, 2, 3, 4, 5}\n",
    "\n",
    "\n",
    "element_to_remove = 3\n",
    "\n",
    "my_set.discard(element_to_remove)\n",
    "\n",
    "print(\"Set after removing\", element_to_remove, \":\", my_set)"
   ]
  },
  {
   "cell_type": "code",
   "execution_count": null,
   "id": "22fd3d9b-8562-4367-b353-e435e329d94a",
   "metadata": {},
   "outputs": [],
   "source": [
    "32. Compare two sets."
   ]
  },
  {
   "cell_type": "code",
   "execution_count": null,
   "id": "ac349eb6-f695-40b7-98b8-9a8924e91807",
   "metadata": {},
   "outputs": [],
   "source": [
    "set1 = {1, 2, 3, 4, 5}\n",
    "set2 = {4, 5, 6, 7, 8}\n",
    "\n",
    "is_subset = set1.issubset(set2)\n",
    "\n",
    "is_superset = set1.issuperset(set2)\n",
    "\n",
    "intersection = set1.intersection(set2)\n",
    "\n",
    "union = set1.union(set2)\n",
    "\n",
    "difference1 = set1.difference(set2)\n",
    "\n",
    "difference2 = set2.difference(set1)\n",
    "\n",
    "print(\"Set 1:\", set1)\n",
    "print(\"Set 2:\", set2)\n",
    "print(\"Is set1 a subset of set2?\", is_subset)\n",
    "print(\"Is set2 a subset of set1?\", is_superset)\n",
    "print(\"Intersection:\", intersection)\n",
    "print(\"Union:\", union)\n",
    "print(\"Elements in set1 but not in set2:\", difference1)\n",
    "print(\"Elements in set2 but not in set1:\", difference2)"
   ]
  },
  {
   "cell_type": "code",
   "execution_count": null,
   "id": "7b780039-84c9-4488-b59a-12515d7e3ace",
   "metadata": {},
   "outputs": [],
   "source": [
    "33. Create a set from a string."
   ]
  },
  {
   "cell_type": "code",
   "execution_count": null,
   "id": "ee9684f3-eb34-409f-91c6-69e2cdd64b02",
   "metadata": {},
   "outputs": [],
   "source": [
    "input_string = \"hello\"\n",
    "\n",
    "char_set = set(input_string)\n",
    "\n",
    "print(char_set)"
   ]
  },
  {
   "cell_type": "code",
   "execution_count": null,
   "id": "eed2111f-0c1c-4b76-aedf-3631c55c33fd",
   "metadata": {},
   "outputs": [],
   "source": [
    "34. Convert a set of strings to a set of integers."
   ]
  },
  {
   "cell_type": "code",
   "execution_count": null,
   "id": "9b2bb5ba-452f-49bb-8fb9-ef30d28adcd1",
   "metadata": {},
   "outputs": [],
   "source": [
    "string_set = {\"123\", \"456\", \"789\"}\n",
    "\n",
    "integer_set = set()\n",
    "\n",
    "for string in string_set:\n",
    " \n",
    "    integer_value = int(string)\n",
    "\n",
    "    integer_set.add(integer_value)\n",
    "\n",
    "print(\"Original String Set:\", string_set)\n",
    "print(\"Converted Integer Set:\", integer_set)"
   ]
  },
  {
   "cell_type": "code",
   "execution_count": null,
   "id": "db00ffaf-bfc5-4287-a46a-6246f3921696",
   "metadata": {},
   "outputs": [],
   "source": [
    "35. Convert a set of integers to a set of strings."
   ]
  },
  {
   "cell_type": "code",
   "execution_count": null,
   "id": "4dfebade-b248-4717-8774-0de2d95c2e94",
   "metadata": {},
   "outputs": [],
   "source": [
    "integers_set = {1, 2, 3, 4, 5}\n",
    "\n",
    "strings_set = set()\n",
    "\n",
    "for num in integers_set:\n",
    "    num_str = str(num)\n",
    "\n",
    "    strings_set.add(num_str)\n",
    "\n",
    "print(\"Original integers_set:\", integers_set)\n",
    "print(\"Converted strings_set:\", strings_set)"
   ]
  },
  {
   "cell_type": "code",
   "execution_count": null,
   "id": "0224a22b-0c0e-4e67-8d5c-332d6369b52a",
   "metadata": {},
   "outputs": [],
   "source": [
    "36. Create a set from a tuple."
   ]
  },
  {
   "cell_type": "code",
   "execution_count": null,
   "id": "5cbdfb86-9464-4285-977b-18b665d7ef9d",
   "metadata": {},
   "outputs": [],
   "source": [
    "input_tuple = (1, 2, 3, 2, 4, 5, 1)\n",
    "output_set = set(input_tuple),\n",
    "print(output_set)"
   ]
  },
  {
   "cell_type": "code",
   "execution_count": null,
   "id": "77d80272-770c-415c-993d-ec199a991010",
   "metadata": {},
   "outputs": [],
   "source": [
    "37. Convert a set to a tuple."
   ]
  },
  {
   "cell_type": "code",
   "execution_count": null,
   "id": "e53e346a-0a44-4695-8788-e1018f4e3735",
   "metadata": {},
   "outputs": [],
   "source": [
    "input_set = {1, 2, 3, 4, 5}\n",
    "\n",
    "output_tuple = tuple(input_set)\n",
    "\n",
    "print(\"Converted tuple:\", output_tuple)"
   ]
  },
  {
   "cell_type": "code",
   "execution_count": null,
   "id": "b8f6c66c-4ac1-42ab-bc66-eed28393201a",
   "metadata": {},
   "outputs": [],
   "source": [
    "38. Find the maximum value in a set."
   ]
  },
  {
   "cell_type": "code",
   "execution_count": null,
   "id": "51e5d791-92a3-43b0-b679-fe04ccaf76bf",
   "metadata": {},
   "outputs": [],
   "source": [
    "my_set = {15, 7, 22, 13, 8}\n",
    "\n",
    "max_value = None\n",
    "\n",
    "for num in my_set:\n",
    "\n",
    "    if max_value is None or num > max_value:\n",
    "        max_value = num \n",
    "\n",
    "print(\"Maximum value:\", max_value)"
   ]
  },
  {
   "cell_type": "code",
   "execution_count": null,
   "id": "bd8d8118-d6aa-4728-ac1f-8c714af2ace5",
   "metadata": {},
   "outputs": [],
   "source": [
    "39. Find the minimum value in a set."
   ]
  },
  {
   "cell_type": "code",
   "execution_count": null,
   "id": "c0ec6ad0-7bae-412d-8c60-9d236912cefb",
   "metadata": {},
   "outputs": [],
   "source": [
    "my_set = {15, 7, 22, 13, 8}\n",
    "\n",
    "min_value = None\n",
    "\n",
    "for num in my_set:\n",
    "\n",
    "    if min_value is None or num > min_value:\n",
    "        min_value = num \n",
    "\n",
    "print(\"minimum value:\", min_value)"
   ]
  },
  {
   "cell_type": "code",
   "execution_count": null,
   "id": "62d0e46e-a097-417e-af84-5b9494e0d576",
   "metadata": {},
   "outputs": [],
   "source": [
    "40. Create a set from user input."
   ]
  },
  {
   "cell_type": "code",
   "execution_count": null,
   "id": "16c19126-fc87-444f-b7e0-3f2f2260713d",
   "metadata": {},
   "outputs": [],
   "source": [
    "user_set = set()\n",
    "\n",
    "print(\"Enter elements for the set (type 'done' to finish):\")\n",
    "while True:\n",
    "    user_input = input(\"> \")\n",
    "\n",
    "    if user_input.lower() == 'done':\n",
    "        break \n",
    " \n",
    "    user_set.add(user_input)\n",
    "\n",
    "print(\"Final set:\", user_set)"
   ]
  },
  {
   "cell_type": "code",
   "execution_count": null,
   "id": "e042e15c-86a1-4d79-8639-ec037435c21d",
   "metadata": {},
   "outputs": [],
   "source": [
    "41. Check if the intersection of two sets is empty."
   ]
  },
  {
   "cell_type": "code",
   "execution_count": null,
   "id": "d184172e-9c9f-44cc-bc82-3c6a2e3ec969",
   "metadata": {},
   "outputs": [],
   "source": [
    "set1 = {1, 2, 3, 4, 5}\n",
    "set2 = {4, 5, 6, 7, 8}\n",
    "\n",
    "intersection_result = set1.intersection(set2)\n",
    "\n",
    "if not intersection_result:\n",
    "    print(\"The intersection of the two sets is empty.\")\n",
    "else:\n",
    "    print(\"The intersection of the two sets is not empty.\")"
   ]
  },
  {
   "cell_type": "code",
   "execution_count": null,
   "id": "606ca059-2aa9-4f16-bb14-1f0fba2b0850",
   "metadata": {},
   "outputs": [],
   "source": [
    "42. Create a set of the first 5 Fibonacci numbers."
   ]
  },
  {
   "cell_type": "code",
   "execution_count": null,
   "id": "f0d7298a-bce4-433c-8a07-00c4122353c1",
   "metadata": {},
   "outputs": [],
   "source": [
    "fibonacci_set = set()\n",
    "\n",
    "a, b = 0, 1\n",
    "\n",
    "for _ in range(6):\n",
    "    \n",
    "    fibonacci_set.add(a)\n",
    "\n",
    "    a, b = b, a + b\n",
    "\n",
    "print(\"Set of the first 5 Fibonacci numbers:\", fibonacci_set)"
   ]
  },
  {
   "cell_type": "code",
   "execution_count": null,
   "id": "a3469e4c-ffea-4135-b9b0-0ad7629061cb",
   "metadata": {},
   "outputs": [],
   "source": [
    "43. Remove duplicates from a list using sets."
   ]
  },
  {
   "cell_type": "code",
   "execution_count": null,
   "id": "0f7ee715-a665-408f-bf2b-fcf236856c4c",
   "metadata": {},
   "outputs": [],
   "source": [
    "original_list = [2, 4, 6, 8, 4, 10, 6, 12, 14, 8]\n",
    "unique_set = set(original_list)\n",
    "unique_list = list(unique_set)\n",
    "\n",
    "print(\"Original List:\", original_list)\n",
    "print(\"List with Duplicates Removed:\", unique_list)"
   ]
  },
  {
   "cell_type": "code",
   "execution_count": null,
   "id": "16f785a5-a107-4009-803d-09cd0edbc721",
   "metadata": {},
   "outputs": [],
   "source": [
    "44. Check if two sets have the same elements, regardless of their count."
   ]
  },
  {
   "cell_type": "code",
   "execution_count": null,
   "id": "168bc85e-dab1-45cc-96a0-281d3eb58d8d",
   "metadata": {},
   "outputs": [],
   "source": [
    "def have_same_elements(set1, set2):\n",
    "   \n",
    "    sorted_list1 = sorted(list(set1))\n",
    "    sorted_list2 = sorted(list(set2))\n",
    "\n",
    "    return sorted_list1 == sorted_list2\n",
    "\n",
    "set1 = {1, 2, 3, 2, 1}\n",
    "set2 = {3, 1, 2}\n",
    "\n",
    "result = have_same_elements(set1, set2)\n",
    "\n",
    "if result:\n",
    "    print(\"The sets have the same elements.\")\n",
    "else:\n",
    "    print(\"The sets do not have the same elements.\")"
   ]
  },
  {
   "cell_type": "code",
   "execution_count": null,
   "id": "e07304f4-aa68-4bea-b22e-0c7cc4febe58",
   "metadata": {},
   "outputs": [],
   "source": [
    "45. Create a set of the first `n` powers of 2."
   ]
  },
  {
   "cell_type": "code",
   "execution_count": null,
   "id": "d92a26be-f661-4cd7-a9cb-27e74e9c9e44",
   "metadata": {},
   "outputs": [],
   "source": [
    "ef generate_powers_of_2(n):\n",
    "    powers_of_2 = set()\n",
    "\n",
    "    for i in range(n):\n",
    "        power = 2 ** i\n",
    "        powers_of_2.add(power)\n",
    "    return powers_of_2\n",
    "\n",
    "n = 5\n",
    "powers_set = generate_powers_of_2(n)\n",
    "\n",
    "print(powers_set)"
   ]
  },
  {
   "cell_type": "code",
   "execution_count": null,
   "id": "e92bab88-7499-43f0-a7d8-e653e0904499",
   "metadata": {},
   "outputs": [],
   "source": [
    "46. Find the common elements between a set and a list."
   ]
  },
  {
   "cell_type": "code",
   "execution_count": null,
   "id": "9e94c4d3-7b26-4e53-8bc8-535760692487",
   "metadata": {},
   "outputs": [],
   "source": [
    "my_set = {3, 7, 9, 12, 15}\n",
    "my_list = [7, 12, 5, 9]\n",
    "\n",
    "list_to_set = set(my_list)\n",
    "\n",
    "common_elements = []\n",
    "\n",
    "for element in my_set:\n",
    "    if element in list_to_set:\n",
    "        common_elements.append(element)\n",
    "\n",
    "print(\"Common elements:\", common_elements)"
   ]
  },
  {
   "cell_type": "code",
   "execution_count": null,
   "id": "18c3e4a7-2119-440b-969e-f0f484498ca1",
   "metadata": {},
   "outputs": [],
   "source": [
    "47. Create a set of the first `n` triangular numbers."
   ]
  },
  {
   "cell_type": "code",
   "execution_count": null,
   "id": "53c4cace-3bd2-4d4c-84f0-768bdd17e0c4",
   "metadata": {},
   "outputs": [],
   "source": [
    "def generate_triangular_numbers(n):\n",
    "    triangular_numbers = set()  # Create an empty set to store the triangular numbers\n",
    "    for i in range(1, n + 1):\n",
    "        triangular_number = i * (i + 1) // 2  # Calculate the ith triangular number using the formula\n",
    "        triangular_numbers.add(triangular_number)  # Add the calculated triangular number to the set\n",
    "    return triangular_numbers\n",
    "\n",
    "# Input the value of 'n'\n",
    "n = int(input(\"Enter the value of n: \"))\n",
    "\n",
    "# Call the function to generate the set of first 'n' triangular numbers\n",
    "triangular_set = generate_triangular_numbers(n)\n",
    "\n",
    "# Display the set of triangular numbers\n",
    "print(f\"The set of the first {n} triangular numbers is:\", triangular_set)"
   ]
  },
  {
   "cell_type": "code",
   "execution_count": null,
   "id": "e2ede0c0-eb77-46f3-bb05-8a5c70837232",
   "metadata": {},
   "outputs": [],
   "source": [
    "48. Check if a set contains another set as a subset."
   ]
  },
  {
   "cell_type": "code",
   "execution_count": null,
   "id": "12a5001f-616c-4fb6-a177-caf86c1afde2",
   "metadata": {},
   "outputs": [],
   "source": [
    "set1 = {1, 2, 3, 4, 5}\n",
    "set2 = {3, 4}\n",
    "\n",
    "is_subset = set2.issubset(set1)\n",
    "\n",
    "if is_subset:\n",
    "    print(\"set2 is a subset of set1\")\n",
    "else:\n",
    "    print(\"set2 is not a subset of set1\")"
   ]
  },
  {
   "cell_type": "code",
   "execution_count": null,
   "id": "62e90017-6b5a-4c67-98a3-9a6db93f2b1b",
   "metadata": {},
   "outputs": [],
   "source": [
    "49. Create a set of alternating 1s and 0s of length `n`."
   ]
  },
  {
   "cell_type": "code",
   "execution_count": null,
   "id": "c8cb9436-36ad-4f7a-b3da-6ffc9a32cafb",
   "metadata": {},
   "outputs": [],
   "source": [
    "def create_alternating_set(n):\n",
    "    # Initialize an empty set to store the alternating sequence.\n",
    "    alternating_set = set()\n",
    "\n",
    "    # Loop to generate alternating 1s and 0s.\n",
    "    for i in range(n):\n",
    "        # Alternate between adding 1 and 0 to the set based on whether i is even or odd.\n",
    "        if i % 2 == 0:\n",
    "            alternating_set.add(1)  # Add 1 if i is even.\n",
    "        else:\n",
    "            alternating_set.add(0)  # Add 0 if i is odd.\n",
    "\n",
    "    return alternating_set\n",
    "\n",
    "# Define the desired length of the alternating set.\n",
    "length_n = 10\n",
    "\n",
    "# Call the function to create the alternating set of length 'length_n'.\n",
    "result = create_alternating_set(length_n)\n",
    "\n",
    "# Print the resulting set.\n",
    "print(result)"
   ]
  },
  {
   "cell_type": "code",
   "execution_count": null,
   "id": "aadb702d-de5f-4200-b047-5f0b26d6c468",
   "metadata": {},
   "outputs": [],
   "source": [
    "50. Merge multiple sets into one."
   ]
  },
  {
   "cell_type": "code",
   "execution_count": null,
   "id": "1e073dab-18e3-4d66-b6bf-f663d902043d",
   "metadata": {},
   "outputs": [],
   "source": [
    "set1 = {1, 2, 3}\n",
    "set2 = {3, 4, 5}\n",
    "set3 = {5, 6, 7}\n",
    "\n",
    "merged_set = set1.union(set2, set3)\n",
    "\n",
    "print(\"Merged Set:\", merged_set)"
   ]
  },
  {
   "cell_type": "code",
   "execution_count": null,
   "id": "402c30be-d0cf-4159-87c8-16cb74fcb029",
   "metadata": {},
   "outputs": [],
   "source": []
  }
 ],
 "metadata": {
  "kernelspec": {
   "display_name": "Python 3 (ipykernel)",
   "language": "python",
   "name": "python3"
  },
  "language_info": {
   "codemirror_mode": {
    "name": "ipython",
    "version": 3
   },
   "file_extension": ".py",
   "mimetype": "text/x-python",
   "name": "python",
   "nbconvert_exporter": "python",
   "pygments_lexer": "ipython3",
   "version": "3.10.8"
  }
 },
 "nbformat": 4,
 "nbformat_minor": 5
}
